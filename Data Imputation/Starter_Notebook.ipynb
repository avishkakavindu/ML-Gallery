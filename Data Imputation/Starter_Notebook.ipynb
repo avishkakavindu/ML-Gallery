{
 "cells": [
  {
   "cell_type": "markdown",
   "metadata": {
    "papermill": {
     "duration": 0.05087,
     "end_time": "2020-11-22T06:37:57.456878",
     "exception": false,
     "start_time": "2020-11-22T06:37:57.406008",
     "status": "completed"
    },
    "tags": []
   },
   "source": [
    "# Introduction :An interpretation of the data with respect to the Movie.\n",
    "                                                                 \n",
    "                                         \n",
    "In this notebook , the titanic dataset is explored with relevance to the perspectives that were been projected in the famous James Cameron movie Titanic based on the tragic story of the RMS Titanic , in the cold Atlantic Ocean. Now , lets not get deep in the story , which might lead us nowhere near to the solution. But if one may question , how the story has thrown light on this dataset , my answer is , the certain facts that were shown in the movie , which will be supported by the graphs as we go through the notebook ,helped me in Feature selection. \n",
    "\n"
   ]
  },
  {
   "cell_type": "markdown",
   "metadata": {
    "papermill": {
     "duration": 0.048921,
     "end_time": "2020-11-22T06:37:57.554873",
     "exception": false,
     "start_time": "2020-11-22T06:37:57.505952",
     "status": "completed"
    },
    "tags": []
   },
   "source": [
    "<img src=\"https://cdn.britannica.com/79/4679-050-BC127236/Titanic.jpg\">"
   ]
  },
  {
   "cell_type": "markdown",
   "metadata": {
    "papermill": {
     "duration": 0.049101,
     "end_time": "2020-11-22T06:37:57.653476",
     "exception": false,
     "start_time": "2020-11-22T06:37:57.604375",
     "status": "completed"
    },
    "tags": []
   },
   "source": [
    "***Bon Voyage !!***"
   ]
  },
  {
   "cell_type": "markdown",
   "metadata": {
    "papermill": {
     "duration": 0.048886,
     "end_time": "2020-11-22T06:37:57.751316",
     "exception": false,
     "start_time": "2020-11-22T06:37:57.702430",
     "status": "completed"
    },
    "tags": []
   },
   "source": [
    "# Playing with data :\n",
    "\n",
    "As the title suggests , I have no experience of how things are in Kaggle , thus the \"playing\" is sort of a , playing with borrowed toys."
   ]
  },
  {
   "cell_type": "code",
   "execution_count": 1,
   "metadata": {
    "_cell_guid": "b1076dfc-b9ad-4769-8c92-a6c4dae69d19",
    "_uuid": "8f2839f25d086af736a60e9eeb907d3b93b6e0e5",
    "execution": {
     "iopub.execute_input": "2020-11-22T06:37:57.858233Z",
     "iopub.status.busy": "2020-11-22T06:37:57.857336Z",
     "iopub.status.idle": "2020-11-22T06:37:57.863722Z",
     "shell.execute_reply": "2020-11-22T06:37:57.862917Z"
    },
    "papermill": {
     "duration": 0.062127,
     "end_time": "2020-11-22T06:37:57.863844",
     "exception": false,
     "start_time": "2020-11-22T06:37:57.801717",
     "status": "completed"
    },
    "tags": []
   },
   "outputs": [],
   "source": [
    "import numpy as np # linear algebra\n",
    "import pandas as pd # data processing, CSV file I/O (e.g. pd.read_csv)\n",
    "\n",
    "import os\n",
    "for dirname, _, filenames in os.walk('/kaggle/input'):\n",
    "    for filename in filenames:\n",
    "        print(os.path.join(dirname, filename))"
   ]
  },
  {
   "cell_type": "code",
   "execution_count": 2,
   "metadata": {
    "_cell_guid": "79c7e3d0-c299-4dcb-8224-4455121ee9b0",
    "_uuid": "d629ff2d2480ee46fbb7e2d37f6b5fab8052498a",
    "execution": {
     "iopub.execute_input": "2020-11-22T06:37:57.968450Z",
     "iopub.status.busy": "2020-11-22T06:37:57.967728Z",
     "iopub.status.idle": "2020-11-22T06:37:58.818322Z",
     "shell.execute_reply": "2020-11-22T06:37:58.816869Z"
    },
    "papermill": {
     "duration": 0.904174,
     "end_time": "2020-11-22T06:37:58.818451",
     "exception": false,
     "start_time": "2020-11-22T06:37:57.914277",
     "status": "completed"
    },
    "tags": []
   },
   "outputs": [],
   "source": [
    "import matplotlib.pyplot as plt\n",
    "import sklearn\n",
    "import seaborn as sb"
   ]
  },
  {
   "cell_type": "markdown",
   "metadata": {
    "papermill": {
     "duration": 0.050353,
     "end_time": "2020-11-22T06:37:58.919123",
     "exception": false,
     "start_time": "2020-11-22T06:37:58.868770",
     "status": "completed"
    },
    "tags": []
   },
   "source": [
    "* Loading the datasets"
   ]
  },
  {
   "cell_type": "code",
   "execution_count": 3,
   "metadata": {
    "execution": {
     "iopub.execute_input": "2020-11-22T06:37:59.025935Z",
     "iopub.status.busy": "2020-11-22T06:37:59.025065Z",
     "iopub.status.idle": "2020-11-22T06:37:59.061086Z",
     "shell.execute_reply": "2020-11-22T06:37:59.061652Z"
    },
    "papermill": {
     "duration": 0.092371,
     "end_time": "2020-11-22T06:37:59.061819",
     "exception": false,
     "start_time": "2020-11-22T06:37:58.969448",
     "status": "completed"
    },
    "tags": []
   },
   "outputs": [
    {
     "data": {
      "text/html": [
       "<div>\n",
       "<style scoped>\n",
       "    .dataframe tbody tr th:only-of-type {\n",
       "        vertical-align: middle;\n",
       "    }\n",
       "\n",
       "    .dataframe tbody tr th {\n",
       "        vertical-align: top;\n",
       "    }\n",
       "\n",
       "    .dataframe thead th {\n",
       "        text-align: right;\n",
       "    }\n",
       "</style>\n",
       "<table border=\"1\" class=\"dataframe\">\n",
       "  <thead>\n",
       "    <tr style=\"text-align: right;\">\n",
       "      <th></th>\n",
       "      <th>PassengerId</th>\n",
       "      <th>Survived</th>\n",
       "      <th>Pclass</th>\n",
       "      <th>Name</th>\n",
       "      <th>Sex</th>\n",
       "      <th>Age</th>\n",
       "      <th>SibSp</th>\n",
       "      <th>Parch</th>\n",
       "      <th>Ticket</th>\n",
       "      <th>Fare</th>\n",
       "      <th>Cabin</th>\n",
       "      <th>Embarked</th>\n",
       "    </tr>\n",
       "  </thead>\n",
       "  <tbody>\n",
       "    <tr>\n",
       "      <th>0</th>\n",
       "      <td>1</td>\n",
       "      <td>0</td>\n",
       "      <td>3</td>\n",
       "      <td>Braund, Mr. Owen Harris</td>\n",
       "      <td>male</td>\n",
       "      <td>22.0</td>\n",
       "      <td>1</td>\n",
       "      <td>0</td>\n",
       "      <td>A/5 21171</td>\n",
       "      <td>7.2500</td>\n",
       "      <td>NaN</td>\n",
       "      <td>S</td>\n",
       "    </tr>\n",
       "    <tr>\n",
       "      <th>1</th>\n",
       "      <td>2</td>\n",
       "      <td>1</td>\n",
       "      <td>1</td>\n",
       "      <td>Cumings, Mrs. John Bradley (Florence Briggs Th...</td>\n",
       "      <td>female</td>\n",
       "      <td>38.0</td>\n",
       "      <td>1</td>\n",
       "      <td>0</td>\n",
       "      <td>PC 17599</td>\n",
       "      <td>71.2833</td>\n",
       "      <td>C85</td>\n",
       "      <td>C</td>\n",
       "    </tr>\n",
       "    <tr>\n",
       "      <th>2</th>\n",
       "      <td>3</td>\n",
       "      <td>1</td>\n",
       "      <td>3</td>\n",
       "      <td>Heikkinen, Miss. Laina</td>\n",
       "      <td>female</td>\n",
       "      <td>26.0</td>\n",
       "      <td>0</td>\n",
       "      <td>0</td>\n",
       "      <td>STON/O2. 3101282</td>\n",
       "      <td>7.9250</td>\n",
       "      <td>NaN</td>\n",
       "      <td>S</td>\n",
       "    </tr>\n",
       "    <tr>\n",
       "      <th>3</th>\n",
       "      <td>4</td>\n",
       "      <td>1</td>\n",
       "      <td>1</td>\n",
       "      <td>Futrelle, Mrs. Jacques Heath (Lily May Peel)</td>\n",
       "      <td>female</td>\n",
       "      <td>35.0</td>\n",
       "      <td>1</td>\n",
       "      <td>0</td>\n",
       "      <td>113803</td>\n",
       "      <td>53.1000</td>\n",
       "      <td>C123</td>\n",
       "      <td>S</td>\n",
       "    </tr>\n",
       "    <tr>\n",
       "      <th>4</th>\n",
       "      <td>5</td>\n",
       "      <td>0</td>\n",
       "      <td>3</td>\n",
       "      <td>Allen, Mr. William Henry</td>\n",
       "      <td>male</td>\n",
       "      <td>35.0</td>\n",
       "      <td>0</td>\n",
       "      <td>0</td>\n",
       "      <td>373450</td>\n",
       "      <td>8.0500</td>\n",
       "      <td>NaN</td>\n",
       "      <td>S</td>\n",
       "    </tr>\n",
       "  </tbody>\n",
       "</table>\n",
       "</div>"
      ],
      "text/plain": [
       "   PassengerId  Survived  Pclass  \\\n",
       "0            1         0       3   \n",
       "1            2         1       1   \n",
       "2            3         1       3   \n",
       "3            4         1       1   \n",
       "4            5         0       3   \n",
       "\n",
       "                                                Name     Sex   Age  SibSp  \\\n",
       "0                            Braund, Mr. Owen Harris    male  22.0      1   \n",
       "1  Cumings, Mrs. John Bradley (Florence Briggs Th...  female  38.0      1   \n",
       "2                             Heikkinen, Miss. Laina  female  26.0      0   \n",
       "3       Futrelle, Mrs. Jacques Heath (Lily May Peel)  female  35.0      1   \n",
       "4                           Allen, Mr. William Henry    male  35.0      0   \n",
       "\n",
       "   Parch            Ticket     Fare Cabin Embarked  \n",
       "0      0         A/5 21171   7.2500   NaN        S  \n",
       "1      0          PC 17599  71.2833   C85        C  \n",
       "2      0  STON/O2. 3101282   7.9250   NaN        S  \n",
       "3      0            113803  53.1000  C123        S  \n",
       "4      0            373450   8.0500   NaN        S  "
      ]
     },
     "execution_count": 3,
     "metadata": {},
     "output_type": "execute_result"
    }
   ],
   "source": [
    "train = pd.read_csv('./kaggle/input/titanic/train.csv')\n",
    "test = pd.read_csv('./kaggle/input/titanic/test.csv')\n",
    "train.head()"
   ]
  },
  {
   "cell_type": "markdown",
   "metadata": {
    "papermill": {
     "duration": 0.050301,
     "end_time": "2020-11-22T06:37:59.164502",
     "exception": false,
     "start_time": "2020-11-22T06:37:59.114201",
     "status": "completed"
    },
    "tags": []
   },
   "source": [
    "* Combining the train and test datasets."
   ]
  },
  {
   "cell_type": "code",
   "execution_count": 4,
   "metadata": {
    "execution": {
     "iopub.execute_input": "2020-11-22T06:37:59.278970Z",
     "iopub.status.busy": "2020-11-22T06:37:59.278200Z",
     "iopub.status.idle": "2020-11-22T06:37:59.280610Z",
     "shell.execute_reply": "2020-11-22T06:37:59.281201Z"
    },
    "papermill": {
     "duration": 0.065324,
     "end_time": "2020-11-22T06:37:59.281318",
     "exception": false,
     "start_time": "2020-11-22T06:37:59.215994",
     "status": "completed"
    },
    "tags": []
   },
   "outputs": [],
   "source": [
    "combine = [train,test]"
   ]
  },
  {
   "cell_type": "markdown",
   "metadata": {
    "papermill": {
     "duration": 0.050817,
     "end_time": "2020-11-22T06:37:59.384880",
     "exception": false,
     "start_time": "2020-11-22T06:37:59.334063",
     "status": "completed"
    },
    "tags": []
   },
   "source": [
    "* Checking the error or missing value percentages of each feature."
   ]
  },
  {
   "cell_type": "code",
   "execution_count": 5,
   "metadata": {
    "execution": {
     "iopub.execute_input": "2020-11-22T06:37:59.494623Z",
     "iopub.status.busy": "2020-11-22T06:37:59.493741Z",
     "iopub.status.idle": "2020-11-22T06:37:59.503381Z",
     "shell.execute_reply": "2020-11-22T06:37:59.502833Z"
    },
    "papermill": {
     "duration": 0.067981,
     "end_time": "2020-11-22T06:37:59.503480",
     "exception": false,
     "start_time": "2020-11-22T06:37:59.435499",
     "status": "completed"
    },
    "tags": []
   },
   "outputs": [
    {
     "name": "stdout",
     "output_type": "stream",
     "text": [
      "PassengerId 0.0\n",
      "Survived 0.0\n",
      "Pclass 0.0\n",
      "Name 0.0\n",
      "Sex 0.0\n",
      "Age 19.865319865319865\n",
      "SibSp 0.0\n",
      "Parch 0.0\n",
      "Ticket 0.0\n",
      "Fare 0.0\n",
      "Cabin 77.10437710437711\n",
      "Embarked 0.2244668911335578\n"
     ]
    }
   ],
   "source": [
    "for c in train.columns:\n",
    "    print(c, str(100*train[c].isnull().sum()/len(train)))\n"
   ]
  },
  {
   "cell_type": "markdown",
   "metadata": {
    "papermill": {
     "duration": 0.050696,
     "end_time": "2020-11-22T06:37:59.605688",
     "exception": false,
     "start_time": "2020-11-22T06:37:59.554992",
     "status": "completed"
    },
    "tags": []
   },
   "source": [
    "We see there are missing values in *Age* , *Cabin* and *Embarked* data. As the values of Cabin are in string , we are going to disregard it. According to the movie and common human sentiments , we will use the age values."
   ]
  },
  {
   "cell_type": "markdown",
   "metadata": {
    "papermill": {
     "duration": 0.051812,
     "end_time": "2020-11-22T06:38:00.147231",
     "exception": false,
     "start_time": "2020-11-22T06:38:00.095419",
     "status": "completed"
    },
    "tags": []
   },
   "source": [
    "* Checking how many people from differnt class and sex had survived."
   ]
  },
  {
   "cell_type": "code",
   "execution_count": 6,
   "metadata": {
    "execution": {
     "iopub.execute_input": "2020-11-22T06:38:00.273575Z",
     "iopub.status.busy": "2020-11-22T06:38:00.272749Z",
     "iopub.status.idle": "2020-11-22T06:38:00.277520Z",
     "shell.execute_reply": "2020-11-22T06:38:00.276739Z"
    },
    "papermill": {
     "duration": 0.077943,
     "end_time": "2020-11-22T06:38:00.277641",
     "exception": false,
     "start_time": "2020-11-22T06:38:00.199698",
     "status": "completed"
    },
    "tags": []
   },
   "outputs": [
    {
     "name": "stdout",
     "output_type": "stream",
     "text": [
      "   Pclass  Survived\n",
      "0       1  0.629630\n",
      "1       2  0.472826\n",
      "2       3  0.242363\n",
      "      Sex  Survived\n",
      "0  female  0.742038\n",
      "1    male  0.188908\n"
     ]
    }
   ],
   "source": [
    "dependencies_sex = train[['Sex', 'Survived']].groupby(['Sex'],as_index=False).mean()\n",
    "dependencies_Pclass = train[['Pclass', 'Survived']].groupby(['Pclass'],as_index=False).mean()\n",
    "\n",
    "print(dependencies_Pclass)\n",
    "print(dependencies_sex)"
   ]
  },
  {
   "cell_type": "markdown",
   "metadata": {
    "papermill": {
     "duration": 0.05234,
     "end_time": "2020-11-22T06:38:00.384780",
     "exception": false,
     "start_time": "2020-11-22T06:38:00.332440",
     "status": "completed"
    },
    "tags": []
   },
   "source": [
    "The large difference in the numbers shows that these two features - *Pclass* and *Sex* , have influence on the survival of the boarded passengers. "
   ]
  },
  {
   "cell_type": "markdown",
   "metadata": {
    "papermill": {
     "duration": 0.051954,
     "end_time": "2020-11-22T06:38:00.488914",
     "exception": false,
     "start_time": "2020-11-22T06:38:00.436960",
     "status": "completed"
    },
    "tags": []
   },
   "source": [
    "# Graphs that support my feature selection based on the movie."
   ]
  },
  {
   "cell_type": "markdown",
   "metadata": {
    "papermill": {
     "duration": 0.052556,
     "end_time": "2020-11-22T06:38:00.593845",
     "exception": false,
     "start_time": "2020-11-22T06:38:00.541289",
     "status": "completed"
    },
    "tags": []
   },
   "source": [
    "* Starting off with the survivor count\n"
   ]
  },
  {
   "cell_type": "code",
   "execution_count": 7,
   "metadata": {
    "execution": {
     "iopub.execute_input": "2020-11-22T06:38:00.705230Z",
     "iopub.status.busy": "2020-11-22T06:38:00.704363Z",
     "iopub.status.idle": "2020-11-22T06:38:00.881899Z",
     "shell.execute_reply": "2020-11-22T06:38:00.880919Z"
    },
    "papermill": {
     "duration": 0.235438,
     "end_time": "2020-11-22T06:38:00.882008",
     "exception": false,
     "start_time": "2020-11-22T06:38:00.646570",
     "status": "completed"
    },
    "tags": []
   },
   "outputs": [
    {
     "data": {
      "text/plain": [
       "<AxesSubplot:xlabel='Survived', ylabel='count'>"
      ]
     },
     "execution_count": 7,
     "metadata": {},
     "output_type": "execute_result"
    },
    {
     "data": {
      "image/png": "[encoded data removed]",
      "text/plain": [
       "<Figure size 432x288 with 1 Axes>"
      ]
     },
     "metadata": {},
     "output_type": "display_data"
    }
   ],
   "source": [
    "sb.set_style('whitegrid')\n",
    "sb.countplot(x='Survived',data=train,palette='YlOrBr')\n"
   ]
  },
  {
   "cell_type": "markdown",
   "metadata": {
    "papermill": {
     "duration": 0.053835,
     "end_time": "2020-11-22T06:38:00.991515",
     "exception": false,
     "start_time": "2020-11-22T06:38:00.937680",
     "status": "completed"
    },
    "tags": []
   },
   "source": [
    "* Survivor Count based on Sex "
   ]
  },
  {
   "cell_type": "code",
   "execution_count": 8,
   "metadata": {
    "execution": {
     "iopub.execute_input": "2020-11-22T06:38:01.114316Z",
     "iopub.status.busy": "2020-11-22T06:38:01.104256Z",
     "iopub.status.idle": "2020-11-22T06:38:01.253628Z",
     "shell.execute_reply": "2020-11-22T06:38:01.254121Z"
    },
    "papermill": {
     "duration": 0.209577,
     "end_time": "2020-11-22T06:38:01.254257",
     "exception": false,
     "start_time": "2020-11-22T06:38:01.044680",
     "status": "completed"
    },
    "tags": []
   },
   "outputs": [
    {
     "data": {
      "text/plain": [
       "<AxesSubplot:xlabel='Survived', ylabel='count'>"
      ]
     },
     "execution_count": 8,
     "metadata": {},
     "output_type": "execute_result"
    },
    {
     "data": {
      "image/png": "[encoded data removed]",
      "text/plain": [
       "<Figure size 432x288 with 1 Axes>"
      ]
     },
     "metadata": {},
     "output_type": "display_data"
    }
   ],
   "source": [
    "sb.set_style('whitegrid')\n",
    "sb.countplot(x='Survived',hue='Sex',data=train,palette='rocket')\n"
   ]
  },
  {
   "cell_type": "markdown",
   "metadata": {
    "papermill": {
     "duration": 0.054314,
     "end_time": "2020-11-22T06:38:01.365418",
     "exception": false,
     "start_time": "2020-11-22T06:38:01.311104",
     "status": "completed"
    },
    "tags": []
   },
   "source": [
    "* Survivor Count based on Class of Passenger"
   ]
  },
  {
   "cell_type": "code",
   "execution_count": 9,
   "metadata": {
    "execution": {
     "iopub.execute_input": "2020-11-22T06:38:01.491280Z",
     "iopub.status.busy": "2020-11-22T06:38:01.490629Z",
     "iopub.status.idle": "2020-11-22T06:38:01.672002Z",
     "shell.execute_reply": "2020-11-22T06:38:01.672566Z"
    },
    "papermill": {
     "duration": 0.252569,
     "end_time": "2020-11-22T06:38:01.672699",
     "exception": false,
     "start_time": "2020-11-22T06:38:01.420130",
     "status": "completed"
    },
    "tags": []
   },
   "outputs": [
    {
     "data": {
      "text/plain": [
       "<AxesSubplot:xlabel='Survived', ylabel='count'>"
      ]
     },
     "execution_count": 9,
     "metadata": {},
     "output_type": "execute_result"
    },
    {
     "data": {
      "image/png": "[encoded data removed]",
      "text/plain": [
       "<Figure size 432x288 with 1 Axes>"
      ]
     },
     "metadata": {},
     "output_type": "display_data"
    }
   ],
   "source": [
    "sb.set_style('whitegrid')\n",
    "sb.countplot(x='Survived',hue='Pclass',data=train,palette='icefire')\n"
   ]
  },
  {
   "cell_type": "markdown",
   "metadata": {
    "papermill": {
     "duration": 0.057915,
     "end_time": "2020-11-22T06:38:01.805597",
     "exception": false,
     "start_time": "2020-11-22T06:38:01.747682",
     "status": "completed"
    },
    "tags": []
   },
   "source": [
    "* Survival Count based on Age"
   ]
  },
  {
   "cell_type": "code",
   "execution_count": 10,
   "metadata": {
    "execution": {
     "iopub.execute_input": "2020-11-22T06:38:01.942686Z",
     "iopub.status.busy": "2020-11-22T06:38:01.941722Z",
     "iopub.status.idle": "2020-11-22T06:38:02.791461Z",
     "shell.execute_reply": "2020-11-22T06:38:02.792048Z"
    },
    "papermill": {
     "duration": 0.926824,
     "end_time": "2020-11-22T06:38:02.792205",
     "exception": false,
     "start_time": "2020-11-22T06:38:01.865381",
     "status": "completed"
    },
    "tags": []
   },
   "outputs": [
    {
     "data": {
      "text/plain": [
       "<seaborn.axisgrid.FacetGrid at 0x2920e15c610>"
      ]
     },
     "execution_count": 10,
     "metadata": {},
     "output_type": "execute_result"
    },
    {
     "data": {
      "image/png": "[encoded data removed]",
      "text/plain": [
       "<Figure size 432x216 with 2 Axes>"
      ]
     },
     "metadata": {},
     "output_type": "display_data"
    }
   ],
   "source": [
    "g = sb.FacetGrid(train, col='Survived')\n",
    "g.map(plt.hist, 'Age', bins=20)\n"
   ]
  },
  {
   "cell_type": "markdown",
   "metadata": {
    "papermill": {
     "duration": 0.06276,
     "end_time": "2020-11-22T06:38:02.915898",
     "exception": false,
     "start_time": "2020-11-22T06:38:02.853138",
     "status": "completed"
    },
    "tags": []
   },
   "source": [
    "* Splitting Titles from Names "
   ]
  },
  {
   "cell_type": "code",
   "execution_count": 11,
   "metadata": {
    "execution": {
     "iopub.execute_input": "2020-11-22T06:38:03.049800Z",
     "iopub.status.busy": "2020-11-22T06:38:03.048696Z",
     "iopub.status.idle": "2020-11-22T06:38:03.052132Z",
     "shell.execute_reply": "2020-11-22T06:38:03.051625Z"
    },
    "papermill": {
     "duration": 0.076349,
     "end_time": "2020-11-22T06:38:03.052256",
     "exception": false,
     "start_time": "2020-11-22T06:38:02.975907",
     "status": "completed"
    },
    "tags": []
   },
   "outputs": [],
   "source": [
    "for dats in combine:\n",
    "    dats['Title'] = dats.Name.str.extract('([A-Za-z]+)\\.',expand=False)"
   ]
  },
  {
   "cell_type": "markdown",
   "metadata": {
    "papermill": {
     "duration": 0.056916,
     "end_time": "2020-11-22T06:38:03.170185",
     "exception": false,
     "start_time": "2020-11-22T06:38:03.113269",
     "status": "completed"
    },
    "tags": []
   },
   "source": [
    "* Grouping various Titles under Rare Category."
   ]
  },
  {
   "cell_type": "code",
   "execution_count": 12,
   "metadata": {
    "execution": {
     "iopub.execute_input": "2020-11-22T06:38:03.298680Z",
     "iopub.status.busy": "2020-11-22T06:38:03.297891Z",
     "iopub.status.idle": "2020-11-22T06:38:03.300919Z",
     "shell.execute_reply": "2020-11-22T06:38:03.300447Z"
    },
    "papermill": {
     "duration": 0.073853,
     "end_time": "2020-11-22T06:38:03.301016",
     "exception": false,
     "start_time": "2020-11-22T06:38:03.227163",
     "status": "completed"
    },
    "tags": []
   },
   "outputs": [],
   "source": [
    "for dataset in combine:\n",
    "    dataset['Title'] = dataset['Title'].replace(['Lady', 'Countess','Capt', 'Col',\n",
    " \t'Don', 'Dr', 'Major', 'Rev', 'Sir', 'Jonkheer', 'Dona'], 'Rare')\n",
    "\n",
    "    dataset['Title'] = dataset['Title'].replace('Mlle', 'Miss')\n",
    "    dataset['Title'] = dataset['Title'].replace('Ms', 'Miss')\n",
    "    dataset['Title'] = dataset['Title'].replace('Mme', 'Mrs')"
   ]
  },
  {
   "cell_type": "code",
   "execution_count": 13,
   "metadata": {
    "execution": {
     "iopub.execute_input": "2020-11-22T06:38:03.433129Z",
     "iopub.status.busy": "2020-11-22T06:38:03.432194Z",
     "iopub.status.idle": "2020-11-22T06:38:03.436698Z",
     "shell.execute_reply": "2020-11-22T06:38:03.436215Z"
    },
    "papermill": {
     "duration": 0.078138,
     "end_time": "2020-11-22T06:38:03.436787",
     "exception": false,
     "start_time": "2020-11-22T06:38:03.358649",
     "status": "completed"
    },
    "tags": []
   },
   "outputs": [
    {
     "data": {
      "text/html": [
       "<div>\n",
       "<style scoped>\n",
       "    .dataframe tbody tr th:only-of-type {\n",
       "        vertical-align: middle;\n",
       "    }\n",
       "\n",
       "    .dataframe tbody tr th {\n",
       "        vertical-align: top;\n",
       "    }\n",
       "\n",
       "    .dataframe thead th {\n",
       "        text-align: right;\n",
       "    }\n",
       "</style>\n",
       "<table border=\"1\" class=\"dataframe\">\n",
       "  <thead>\n",
       "    <tr style=\"text-align: right;\">\n",
       "      <th></th>\n",
       "      <th>PassengerId</th>\n",
       "      <th>Survived</th>\n",
       "      <th>Pclass</th>\n",
       "      <th>Name</th>\n",
       "      <th>Sex</th>\n",
       "      <th>Age</th>\n",
       "      <th>SibSp</th>\n",
       "      <th>Parch</th>\n",
       "      <th>Ticket</th>\n",
       "      <th>Fare</th>\n",
       "      <th>Cabin</th>\n",
       "      <th>Embarked</th>\n",
       "      <th>Title</th>\n",
       "    </tr>\n",
       "  </thead>\n",
       "  <tbody>\n",
       "    <tr>\n",
       "      <th>0</th>\n",
       "      <td>1</td>\n",
       "      <td>0</td>\n",
       "      <td>3</td>\n",
       "      <td>Braund, Mr. Owen Harris</td>\n",
       "      <td>male</td>\n",
       "      <td>22.0</td>\n",
       "      <td>1</td>\n",
       "      <td>0</td>\n",
       "      <td>A/5 21171</td>\n",
       "      <td>7.2500</td>\n",
       "      <td>NaN</td>\n",
       "      <td>S</td>\n",
       "      <td>Mr</td>\n",
       "    </tr>\n",
       "    <tr>\n",
       "      <th>1</th>\n",
       "      <td>2</td>\n",
       "      <td>1</td>\n",
       "      <td>1</td>\n",
       "      <td>Cumings, Mrs. John Bradley (Florence Briggs Th...</td>\n",
       "      <td>female</td>\n",
       "      <td>38.0</td>\n",
       "      <td>1</td>\n",
       "      <td>0</td>\n",
       "      <td>PC 17599</td>\n",
       "      <td>71.2833</td>\n",
       "      <td>C85</td>\n",
       "      <td>C</td>\n",
       "      <td>Mrs</td>\n",
       "    </tr>\n",
       "    <tr>\n",
       "      <th>2</th>\n",
       "      <td>3</td>\n",
       "      <td>1</td>\n",
       "      <td>3</td>\n",
       "      <td>Heikkinen, Miss. Laina</td>\n",
       "      <td>female</td>\n",
       "      <td>26.0</td>\n",
       "      <td>0</td>\n",
       "      <td>0</td>\n",
       "      <td>STON/O2. 3101282</td>\n",
       "      <td>7.9250</td>\n",
       "      <td>NaN</td>\n",
       "      <td>S</td>\n",
       "      <td>Miss</td>\n",
       "    </tr>\n",
       "    <tr>\n",
       "      <th>3</th>\n",
       "      <td>4</td>\n",
       "      <td>1</td>\n",
       "      <td>1</td>\n",
       "      <td>Futrelle, Mrs. Jacques Heath (Lily May Peel)</td>\n",
       "      <td>female</td>\n",
       "      <td>35.0</td>\n",
       "      <td>1</td>\n",
       "      <td>0</td>\n",
       "      <td>113803</td>\n",
       "      <td>53.1000</td>\n",
       "      <td>C123</td>\n",
       "      <td>S</td>\n",
       "      <td>Mrs</td>\n",
       "    </tr>\n",
       "    <tr>\n",
       "      <th>4</th>\n",
       "      <td>5</td>\n",
       "      <td>0</td>\n",
       "      <td>3</td>\n",
       "      <td>Allen, Mr. William Henry</td>\n",
       "      <td>male</td>\n",
       "      <td>35.0</td>\n",
       "      <td>0</td>\n",
       "      <td>0</td>\n",
       "      <td>373450</td>\n",
       "      <td>8.0500</td>\n",
       "      <td>NaN</td>\n",
       "      <td>S</td>\n",
       "      <td>Mr</td>\n",
       "    </tr>\n",
       "  </tbody>\n",
       "</table>\n",
       "</div>"
      ],
      "text/plain": [
       "   PassengerId  Survived  Pclass  \\\n",
       "0            1         0       3   \n",
       "1            2         1       1   \n",
       "2            3         1       3   \n",
       "3            4         1       1   \n",
       "4            5         0       3   \n",
       "\n",
       "                                                Name     Sex   Age  SibSp  \\\n",
       "0                            Braund, Mr. Owen Harris    male  22.0      1   \n",
       "1  Cumings, Mrs. John Bradley (Florence Briggs Th...  female  38.0      1   \n",
       "2                             Heikkinen, Miss. Laina  female  26.0      0   \n",
       "3       Futrelle, Mrs. Jacques Heath (Lily May Peel)  female  35.0      1   \n",
       "4                           Allen, Mr. William Henry    male  35.0      0   \n",
       "\n",
       "   Parch            Ticket     Fare Cabin Embarked Title  \n",
       "0      0         A/5 21171   7.2500   NaN        S    Mr  \n",
       "1      0          PC 17599  71.2833   C85        C   Mrs  \n",
       "2      0  STON/O2. 3101282   7.9250   NaN        S  Miss  \n",
       "3      0            113803  53.1000  C123        S   Mrs  \n",
       "4      0            373450   8.0500   NaN        S    Mr  "
      ]
     },
     "execution_count": 13,
     "metadata": {},
     "output_type": "execute_result"
    }
   ],
   "source": [
    "train.head()"
   ]
  },
  {
   "cell_type": "markdown",
   "metadata": {
    "papermill": {
     "duration": 0.096868,
     "end_time": "2020-11-22T06:38:03.596780",
     "exception": false,
     "start_time": "2020-11-22T06:38:03.499912",
     "status": "completed"
    },
    "tags": []
   },
   "source": [
    "* Label Encoding Titles. "
   ]
  },
  {
   "cell_type": "code",
   "execution_count": 14,
   "metadata": {
    "execution": {
     "iopub.execute_input": "2020-11-22T06:38:03.742410Z",
     "iopub.status.busy": "2020-11-22T06:38:03.740492Z",
     "iopub.status.idle": "2020-11-22T06:38:03.754272Z",
     "shell.execute_reply": "2020-11-22T06:38:03.755365Z"
    },
    "papermill": {
     "duration": 0.100091,
     "end_time": "2020-11-22T06:38:03.755685",
     "exception": false,
     "start_time": "2020-11-22T06:38:03.655594",
     "status": "completed"
    },
    "tags": []
   },
   "outputs": [],
   "source": [
    "title_mapping = {\"Mr\": 1, \"Miss\": 2, \"Mrs\": 3, \"Master\": 4, \"Rare\": 5}\n",
    "for dataset in combine:\n",
    "    dataset['Title'] = dataset['Title'].map(title_mapping)\n",
    "    dataset['Title'] = dataset['Title'].fillna(0)"
   ]
  },
  {
   "cell_type": "code",
   "execution_count": 15,
   "metadata": {
    "execution": {
     "iopub.execute_input": "2020-11-22T06:38:03.960378Z",
     "iopub.status.busy": "2020-11-22T06:38:03.959449Z",
     "iopub.status.idle": "2020-11-22T06:38:03.976779Z",
     "shell.execute_reply": "2020-11-22T06:38:03.977993Z"
    },
    "papermill": {
     "duration": 0.121401,
     "end_time": "2020-11-22T06:38:03.978194",
     "exception": false,
     "start_time": "2020-11-22T06:38:03.856793",
     "status": "completed"
    },
    "tags": []
   },
   "outputs": [
    {
     "data": {
      "text/html": [
       "<div>\n",
       "<style scoped>\n",
       "    .dataframe tbody tr th:only-of-type {\n",
       "        vertical-align: middle;\n",
       "    }\n",
       "\n",
       "    .dataframe tbody tr th {\n",
       "        vertical-align: top;\n",
       "    }\n",
       "\n",
       "    .dataframe thead th {\n",
       "        text-align: right;\n",
       "    }\n",
       "</style>\n",
       "<table border=\"1\" class=\"dataframe\">\n",
       "  <thead>\n",
       "    <tr style=\"text-align: right;\">\n",
       "      <th></th>\n",
       "      <th>PassengerId</th>\n",
       "      <th>Survived</th>\n",
       "      <th>Pclass</th>\n",
       "      <th>Name</th>\n",
       "      <th>Sex</th>\n",
       "      <th>Age</th>\n",
       "      <th>SibSp</th>\n",
       "      <th>Parch</th>\n",
       "      <th>Ticket</th>\n",
       "      <th>Fare</th>\n",
       "      <th>Cabin</th>\n",
       "      <th>Embarked</th>\n",
       "      <th>Title</th>\n",
       "    </tr>\n",
       "  </thead>\n",
       "  <tbody>\n",
       "    <tr>\n",
       "      <th>0</th>\n",
       "      <td>1</td>\n",
       "      <td>0</td>\n",
       "      <td>3</td>\n",
       "      <td>Braund, Mr. Owen Harris</td>\n",
       "      <td>male</td>\n",
       "      <td>22.0</td>\n",
       "      <td>1</td>\n",
       "      <td>0</td>\n",
       "      <td>A/5 21171</td>\n",
       "      <td>7.2500</td>\n",
       "      <td>NaN</td>\n",
       "      <td>S</td>\n",
       "      <td>1</td>\n",
       "    </tr>\n",
       "    <tr>\n",
       "      <th>1</th>\n",
       "      <td>2</td>\n",
       "      <td>1</td>\n",
       "      <td>1</td>\n",
       "      <td>Cumings, Mrs. John Bradley (Florence Briggs Th...</td>\n",
       "      <td>female</td>\n",
       "      <td>38.0</td>\n",
       "      <td>1</td>\n",
       "      <td>0</td>\n",
       "      <td>PC 17599</td>\n",
       "      <td>71.2833</td>\n",
       "      <td>C85</td>\n",
       "      <td>C</td>\n",
       "      <td>3</td>\n",
       "    </tr>\n",
       "    <tr>\n",
       "      <th>2</th>\n",
       "      <td>3</td>\n",
       "      <td>1</td>\n",
       "      <td>3</td>\n",
       "      <td>Heikkinen, Miss. Laina</td>\n",
       "      <td>female</td>\n",
       "      <td>26.0</td>\n",
       "      <td>0</td>\n",
       "      <td>0</td>\n",
       "      <td>STON/O2. 3101282</td>\n",
       "      <td>7.9250</td>\n",
       "      <td>NaN</td>\n",
       "      <td>S</td>\n",
       "      <td>2</td>\n",
       "    </tr>\n",
       "    <tr>\n",
       "      <th>3</th>\n",
       "      <td>4</td>\n",
       "      <td>1</td>\n",
       "      <td>1</td>\n",
       "      <td>Futrelle, Mrs. Jacques Heath (Lily May Peel)</td>\n",
       "      <td>female</td>\n",
       "      <td>35.0</td>\n",
       "      <td>1</td>\n",
       "      <td>0</td>\n",
       "      <td>113803</td>\n",
       "      <td>53.1000</td>\n",
       "      <td>C123</td>\n",
       "      <td>S</td>\n",
       "      <td>3</td>\n",
       "    </tr>\n",
       "    <tr>\n",
       "      <th>4</th>\n",
       "      <td>5</td>\n",
       "      <td>0</td>\n",
       "      <td>3</td>\n",
       "      <td>Allen, Mr. William Henry</td>\n",
       "      <td>male</td>\n",
       "      <td>35.0</td>\n",
       "      <td>0</td>\n",
       "      <td>0</td>\n",
       "      <td>373450</td>\n",
       "      <td>8.0500</td>\n",
       "      <td>NaN</td>\n",
       "      <td>S</td>\n",
       "      <td>1</td>\n",
       "    </tr>\n",
       "  </tbody>\n",
       "</table>\n",
       "</div>"
      ],
      "text/plain": [
       "   PassengerId  Survived  Pclass  \\\n",
       "0            1         0       3   \n",
       "1            2         1       1   \n",
       "2            3         1       3   \n",
       "3            4         1       1   \n",
       "4            5         0       3   \n",
       "\n",
       "                                                Name     Sex   Age  SibSp  \\\n",
       "0                            Braund, Mr. Owen Harris    male  22.0      1   \n",
       "1  Cumings, Mrs. John Bradley (Florence Briggs Th...  female  38.0      1   \n",
       "2                             Heikkinen, Miss. Laina  female  26.0      0   \n",
       "3       Futrelle, Mrs. Jacques Heath (Lily May Peel)  female  35.0      1   \n",
       "4                           Allen, Mr. William Henry    male  35.0      0   \n",
       "\n",
       "   Parch            Ticket     Fare Cabin Embarked  Title  \n",
       "0      0         A/5 21171   7.2500   NaN        S      1  \n",
       "1      0          PC 17599  71.2833   C85        C      3  \n",
       "2      0  STON/O2. 3101282   7.9250   NaN        S      2  \n",
       "3      0            113803  53.1000  C123        S      3  \n",
       "4      0            373450   8.0500   NaN        S      1  "
      ]
     },
     "execution_count": 15,
     "metadata": {},
     "output_type": "execute_result"
    }
   ],
   "source": [
    "train.head()"
   ]
  },
  {
   "cell_type": "markdown",
   "metadata": {
    "papermill": {
     "duration": 0.090274,
     "end_time": "2020-11-22T06:38:04.162554",
     "exception": false,
     "start_time": "2020-11-22T06:38:04.072280",
     "status": "completed"
    },
    "tags": []
   },
   "source": [
    "Now we can see that under the Column Title , instead of *Mr.* , *Mrs.* , *Miss* , etc. , there are numbers 1-5 , representing the 5 different Titles."
   ]
  },
  {
   "cell_type": "markdown",
   "metadata": {
    "papermill": {
     "duration": 0.118914,
     "end_time": "2020-11-22T06:38:04.371030",
     "exception": false,
     "start_time": "2020-11-22T06:38:04.252116",
     "status": "completed"
    },
    "tags": []
   },
   "source": [
    "* Here we see how the survival of the passengers depend on the *Sex* and *Title*. ( There are 2 rows with Title as 5 , which represents the Rare category , and it implies that females of high classes were favoured over all )"
   ]
  },
  {
   "cell_type": "code",
   "execution_count": 16,
   "metadata": {
    "execution": {
     "iopub.execute_input": "2020-11-22T06:38:04.561625Z",
     "iopub.status.busy": "2020-11-22T06:38:04.561026Z",
     "iopub.status.idle": "2020-11-22T06:38:04.570772Z",
     "shell.execute_reply": "2020-11-22T06:38:04.571870Z"
    },
    "papermill": {
     "duration": 0.115679,
     "end_time": "2020-11-22T06:38:04.572033",
     "exception": false,
     "start_time": "2020-11-22T06:38:04.456354",
     "status": "completed"
    },
    "tags": []
   },
   "outputs": [
    {
     "data": {
      "text/html": [
       "<div>\n",
       "<style scoped>\n",
       "    .dataframe tbody tr th:only-of-type {\n",
       "        vertical-align: middle;\n",
       "    }\n",
       "\n",
       "    .dataframe tbody tr th {\n",
       "        vertical-align: top;\n",
       "    }\n",
       "\n",
       "    .dataframe thead th {\n",
       "        text-align: right;\n",
       "    }\n",
       "</style>\n",
       "<table border=\"1\" class=\"dataframe\">\n",
       "  <thead>\n",
       "    <tr style=\"text-align: right;\">\n",
       "      <th></th>\n",
       "      <th>Title</th>\n",
       "      <th>Sex</th>\n",
       "      <th>Survived</th>\n",
       "    </tr>\n",
       "  </thead>\n",
       "  <tbody>\n",
       "    <tr>\n",
       "      <th>0</th>\n",
       "      <td>1</td>\n",
       "      <td>male</td>\n",
       "      <td>0.156673</td>\n",
       "    </tr>\n",
       "    <tr>\n",
       "      <th>1</th>\n",
       "      <td>2</td>\n",
       "      <td>female</td>\n",
       "      <td>0.702703</td>\n",
       "    </tr>\n",
       "    <tr>\n",
       "      <th>2</th>\n",
       "      <td>3</td>\n",
       "      <td>female</td>\n",
       "      <td>0.793651</td>\n",
       "    </tr>\n",
       "    <tr>\n",
       "      <th>3</th>\n",
       "      <td>4</td>\n",
       "      <td>male</td>\n",
       "      <td>0.575000</td>\n",
       "    </tr>\n",
       "    <tr>\n",
       "      <th>4</th>\n",
       "      <td>5</td>\n",
       "      <td>female</td>\n",
       "      <td>1.000000</td>\n",
       "    </tr>\n",
       "    <tr>\n",
       "      <th>5</th>\n",
       "      <td>5</td>\n",
       "      <td>male</td>\n",
       "      <td>0.250000</td>\n",
       "    </tr>\n",
       "  </tbody>\n",
       "</table>\n",
       "</div>"
      ],
      "text/plain": [
       "   Title     Sex  Survived\n",
       "0      1    male  0.156673\n",
       "1      2  female  0.702703\n",
       "2      3  female  0.793651\n",
       "3      4    male  0.575000\n",
       "4      5  female  1.000000\n",
       "5      5    male  0.250000"
      ]
     },
     "execution_count": 16,
     "metadata": {},
     "output_type": "execute_result"
    }
   ],
   "source": [
    "title_dependencies=train[['Title','Survived','Sex']].groupby(['Title','Sex'],as_index=False).mean()\n",
    "\n",
    "title_dependencies"
   ]
  },
  {
   "cell_type": "markdown",
   "metadata": {
    "papermill": {
     "duration": 0.076777,
     "end_time": "2020-11-22T06:38:04.718232",
     "exception": false,
     "start_time": "2020-11-22T06:38:04.641455",
     "status": "completed"
    },
    "tags": []
   },
   "source": [
    "# Selecting the final features !!"
   ]
  },
  {
   "cell_type": "markdown",
   "metadata": {
    "papermill": {
     "duration": 0.082631,
     "end_time": "2020-11-22T06:38:04.882873",
     "exception": false,
     "start_time": "2020-11-22T06:38:04.800242",
     "status": "completed"
    },
    "tags": []
   },
   "source": [
    "<img src=\"https://64.media.tumblr.com/37e6f5cd93269829406ccb5bbccf34e0/tumblr_pezn7j41oN1qzs7uio4_r1_400.gifv\">"
   ]
  },
  {
   "cell_type": "markdown",
   "metadata": {
    "papermill": {
     "duration": 0.061747,
     "end_time": "2020-11-22T06:38:05.039798",
     "exception": false,
     "start_time": "2020-11-22T06:38:04.978051",
     "status": "completed"
    },
    "tags": []
   },
   "source": [
    "According to the movie , the Children and the Women , obviously in the decrasing order of their class , were allowed to board the life boats first. Remember the scene were the crew were shouthing , *\" Women and Children First !!\"*. Thus the selection of the *Sex* , *Age* and the *Pclass* as a valid feature for the prediction. As we have clearly seen that people of high social stature had a cent percent chance of survival , thus the *Title* column is also a valid feature. \n",
    "\n",
    "Now , the *Parch* and *SibSp* feature , which represents parents and children, and siblings and spouse , is also a valid feature , because parents and children were not to be separated , and siblings and spouse too. Thus , those passengers who were travelling alone were left behind. \n",
    "\n",
    "The reason behind dropping , *Cabin* , *Embarked* and *Ticket* feature is , that in the data *Ticket* , there are too many mixed data type , and that doesnt help us figure out the survival of the passengers ; in the *Cabin* data , there were too many missing values , although it might have been useful , because the cabin position had an inportant role in the survival as the lower cabins were filled with water first ; the *Embarked* data has nothing to do with the survival , because the port of embarkation did not determine the fate of the passengers, although , upon speculations one may find patterns in the data. \n",
    "\n",
    "What we can see is , that the prejudice of people of certain social backgrounds determined the survival of the passengers.  "
   ]
  },
  {
   "cell_type": "code",
   "execution_count": 17,
   "metadata": {
    "execution": {
     "iopub.execute_input": "2020-11-22T06:38:05.173001Z",
     "iopub.status.busy": "2020-11-22T06:38:05.172103Z",
     "iopub.status.idle": "2020-11-22T06:38:05.190423Z",
     "shell.execute_reply": "2020-11-22T06:38:05.191340Z"
    },
    "papermill": {
     "duration": 0.090433,
     "end_time": "2020-11-22T06:38:05.191492",
     "exception": false,
     "start_time": "2020-11-22T06:38:05.101059",
     "status": "completed"
    },
    "tags": []
   },
   "outputs": [
    {
     "name": "stdout",
     "output_type": "stream",
     "text": [
      "   Survived  Pclass     Sex   Age  SibSp  Parch     Fare  Title\n",
      "0         0       3    male  22.0      1      0   7.2500      1\n",
      "1         1       1  female  38.0      1      0  71.2833      3\n",
      "2         1       3  female  26.0      0      0   7.9250      2\n",
      "3         1       1  female  35.0      1      0  53.1000      3\n",
      "4         0       3    male  35.0      0      0   8.0500      1\n",
      "   Survived  Pclass  Sex   Age  SibSp  Parch     Fare  Title\n",
      "0         0       3    0  22.0      1      0   7.2500      1\n",
      "1         1       1    1  38.0      1      0  71.2833      3\n",
      "2         1       3    1  26.0      0      0   7.9250      2\n",
      "3         1       1    1  35.0      1      0  53.1000      3\n",
      "4         0       3    0  35.0      0      0   8.0500      1\n",
      "   Pclass  Sex   Age  SibSp  Parch     Fare  Title\n",
      "0       3    0  34.5      0      0   7.8292      1\n",
      "1       3    1  47.0      1      0   7.0000      3\n",
      "2       2    0  62.0      0      0   9.6875      1\n",
      "3       3    0  27.0      0      0   8.6625      1\n",
      "4       3    1  22.0      1      1  12.2875      3\n"
     ]
    }
   ],
   "source": [
    "train = train.drop(['Name', 'PassengerId', 'Cabin', 'Embarked','Ticket'], axis=1)\n",
    "test = test.drop(['Name', 'PassengerId', 'Cabin', 'Embarked','Ticket'], axis=1)\n",
    "\n",
    "combine=[train,test]\n",
    "\n",
    "print(train.head())\n",
    "\n",
    "for dataset in combine:\n",
    "    dataset['Sex'] = dataset['Sex'].map( {'female': 1, 'male': 0}).astype(int)\n",
    "\n",
    "print(train.head())\n",
    "print (test.head())\n"
   ]
  },
  {
   "cell_type": "markdown",
   "metadata": {},
   "source": [
    "# Data Imputation"
   ]
  },
  {
   "cell_type": "markdown",
   "metadata": {},
   "source": [
    "### Imputation Using Mean Values"
   ]
  },
  {
   "cell_type": "code",
   "execution_count": 18,
   "metadata": {
    "execution": {
     "iopub.execute_input": "2020-11-22T06:37:59.713352Z",
     "iopub.status.busy": "2020-11-22T06:37:59.712625Z",
     "iopub.status.idle": "2020-11-22T06:37:59.715110Z",
     "shell.execute_reply": "2020-11-22T06:37:59.715625Z"
    },
    "papermill": {
     "duration": 0.058876,
     "end_time": "2020-11-22T06:37:59.715748",
     "exception": false,
     "start_time": "2020-11-22T06:37:59.656872",
     "status": "completed"
    },
    "tags": []
   },
   "outputs": [],
   "source": [
    "train_mean_imputed = train.copy()\n",
    "train_mean_imputed['Age'] = train['Age'].fillna(train['Age'].mean())"
   ]
  },
  {
   "cell_type": "markdown",
   "metadata": {
    "papermill": {
     "duration": 0.052653,
     "end_time": "2020-11-22T06:37:59.819378",
     "exception": false,
     "start_time": "2020-11-22T06:37:59.766725",
     "status": "completed"
    },
    "tags": []
   },
   "source": [
    "Here , I have replaced the missing values of age with the average of all the ages of the people who boarded the Titanic.\n"
   ]
  },
  {
   "cell_type": "code",
   "execution_count": 19,
   "metadata": {
    "execution": {
     "iopub.execute_input": "2020-11-22T06:37:59.932193Z",
     "iopub.status.busy": "2020-11-22T06:37:59.931299Z",
     "iopub.status.idle": "2020-11-22T06:37:59.939182Z",
     "shell.execute_reply": "2020-11-22T06:37:59.938133Z"
    },
    "papermill": {
     "duration": 0.068758,
     "end_time": "2020-11-22T06:37:59.939340",
     "exception": false,
     "start_time": "2020-11-22T06:37:59.870582",
     "status": "completed"
    },
    "tags": []
   },
   "outputs": [
    {
     "name": "stdout",
     "output_type": "stream",
     "text": [
      "Survived 0.0\n",
      "Pclass 0.0\n",
      "Sex 0.0\n",
      "Age 0.0\n",
      "SibSp 0.0\n",
      "Parch 0.0\n",
      "Fare 0.0\n",
      "Title 0.0\n"
     ]
    }
   ],
   "source": [
    "for c in train_mean_imputed.columns:\n",
    "    print(c, str(100*train_mean_imputed[c].isnull().sum()/len(train)))"
   ]
  },
  {
   "cell_type": "markdown",
   "metadata": {
    "papermill": {
     "duration": 0.051558,
     "end_time": "2020-11-22T06:38:00.043610",
     "exception": false,
     "start_time": "2020-11-22T06:37:59.992052",
     "status": "completed"
    },
    "tags": []
   },
   "source": [
    "Now we can see that there are no missing values in Age column."
   ]
  },
  {
   "cell_type": "markdown",
   "metadata": {},
   "source": [
    "### Imputation Using Median Values"
   ]
  },
  {
   "cell_type": "code",
   "execution_count": 20,
   "metadata": {},
   "outputs": [],
   "source": [
    "train_median_imputed = train.copy()\n",
    "train_median_imputed['Age'] = train['Age'].fillna(train['Age'].median())"
   ]
  },
  {
   "cell_type": "markdown",
   "metadata": {},
   "source": [
    "Here , I have replaced the missing values of age with the median of all the ages of the people who boarded the Titanic."
   ]
  },
  {
   "cell_type": "code",
   "execution_count": 21,
   "metadata": {},
   "outputs": [
    {
     "name": "stdout",
     "output_type": "stream",
     "text": [
      "Survived 0.0\n",
      "Pclass 0.0\n",
      "Sex 0.0\n",
      "Age 0.0\n",
      "SibSp 0.0\n",
      "Parch 0.0\n",
      "Fare 0.0\n",
      "Title 0.0\n"
     ]
    }
   ],
   "source": [
    "for c in train_median_imputed.columns:\n",
    "    print(c, str(100*train_median_imputed[c].isnull().sum()/len(train)))"
   ]
  },
  {
   "cell_type": "markdown",
   "metadata": {},
   "source": [
    "Now we can see that there are no missing values in Age column."
   ]
  },
  {
   "cell_type": "markdown",
   "metadata": {},
   "source": [
    "### Imputation Using Most Frequent Values"
   ]
  },
  {
   "cell_type": "code",
   "execution_count": 22,
   "metadata": {},
   "outputs": [],
   "source": [
    "train_most_frequent_imputed = train.copy()\n",
    "train_most_frequent_imputed['Age'] = train['Age'].fillna(train['Age'].value_counts().index[0])"
   ]
  },
  {
   "cell_type": "markdown",
   "metadata": {},
   "source": [
    "Here , I have replaced the missing values of age with the most frequent value of all the ages of the people who boarded the Titanic."
   ]
  },
  {
   "cell_type": "code",
   "execution_count": 23,
   "metadata": {},
   "outputs": [
    {
     "name": "stdout",
     "output_type": "stream",
     "text": [
      "Survived 0.0\n",
      "Pclass 0.0\n",
      "Sex 0.0\n",
      "Age 0.0\n",
      "SibSp 0.0\n",
      "Parch 0.0\n",
      "Fare 0.0\n",
      "Title 0.0\n"
     ]
    }
   ],
   "source": [
    "for c in train_most_frequent_imputed.columns:\n",
    "    print(c, str(100*train_most_frequent_imputed[c].isnull().sum()/len(train)))"
   ]
  },
  {
   "cell_type": "markdown",
   "metadata": {},
   "source": [
    "Now we can see that there are no missing values in Age column."
   ]
  },
  {
   "cell_type": "markdown",
   "metadata": {},
   "source": [
    "### Imputation Using Deep Learning (Datawig)"
   ]
  },
  {
   "cell_type": "code",
   "execution_count": 24,
   "metadata": {},
   "outputs": [],
   "source": [
    "from sklearn.metrics import r2_score\n",
    "\n",
    "def get_r2_score(imputed_dataset, column):\n",
    "    \"\"\" \n",
    "        Get R2 score for imputed dataset\n",
    "        param:\n",
    "            imputed_dataset: Dataset with separate imputed column generated by DataWig\n",
    "            column: Column that needs imputation\n",
    "    \"\"\"\n",
    "    \n",
    "    # make a copy of dataset\n",
    "    imputed_dataset_cpy = imputed_dataset.copy()\n",
    "    # drop null values\n",
    "    imputed_dataset_cpy.dropna(how='any', axis=0, inplace=True)\n",
    "    print('Accuracy(using R2 score): {}'.format(r2_score(imputed_dataset_cpy[column], imputed_dataset_cpy['{}_imputed'.format(column)])))"
   ]
  },
  {
   "cell_type": "code",
   "execution_count": 25,
   "metadata": {},
   "outputs": [],
   "source": [
    "import datawig\n",
    "\n",
    "def get_imputed(dataset, input_columns, output_column):\n",
    "    \"\"\" \n",
    "        Method for imputation of a column selectively\n",
    "        \n",
    "        param:\n",
    "            dataset: Dataset that need to be imputed\n",
    "            input_columns: Columns that need to predict the imputatations\n",
    "            output_column: Column that needs imputation\n",
    "    \"\"\"\n",
    "    \n",
    "    # df_train, df_test = datawig.utils.random_split(dataset)\n",
    "\n",
    "    #Initialize a SimpleImputer model\n",
    "    imputer = datawig.SimpleImputer(\n",
    "        input_columns=input_columns, # column(s) containing information about the column we want to impute\n",
    "        output_column=output_column, # the column we'd like to impute values for\n",
    "        output_path = 'imputer_model' # stores model data and metrics\n",
    "        )\n",
    "\n",
    "    #Fit an imputer model on the train data\n",
    "    imputer.fit(train_df=dataset, # used whole dataset\n",
    "                    num_epochs=500,\n",
    "                   )\n",
    "\n",
    "    #Impute missing values and return original dataframe with predictions\n",
    "    imputed_dataset = imputer.predict(dataset)\n",
    "    \n",
    "    get_r2_score(imputed_dataset, output_column)\n",
    "    \n",
    "    # fill null field of imputation needed column with imputed data\n",
    "    imputed_dataset[output_column] = imputed_dataset[output_column].fillna(imputed_dataset['{}_imputed'.format(output_column)])\n",
    "    # remove imputation prediction column\n",
    "    del imputed_dataset['{}_imputed'.format(output_column)]\n",
    "    return imputed_dataset"
   ]
  },
  {
   "cell_type": "code",
   "execution_count": 26,
   "metadata": {},
   "outputs": [
    {
     "name": "stderr",
     "output_type": "stream",
     "text": [
      "2021-10-22 15:14:54,928 [INFO]  \n",
      "========== start: fit model\n",
      "2021-10-22 15:14:54,929 [WARNING]  Already bound, ignoring bind()\n",
      "2021-10-22 15:14:54,951 [INFO]  Epoch[0] Batch [0-26]\tSpeed: 23110.34 samples/sec\tcross-entropy=5.648686\tAge-accuracy=0.000000\n",
      "2021-10-22 15:14:54,968 [INFO]  Epoch[0] Train-cross-entropy=3.347303\n",
      "2021-10-22 15:14:54,969 [INFO]  Epoch[0] Train-Age-accuracy=0.000000\n",
      "2021-10-22 15:14:54,969 [INFO]  Epoch[0] Time cost=0.038\n",
      "2021-10-22 15:14:54,972 [INFO]  Saved checkpoint to \"imputer_model\\model-0000.params\"\n",
      "2021-10-22 15:14:54,976 [INFO]  Epoch[0] Validation-cross-entropy=0.407168\n",
      "2021-10-22 15:14:54,977 [INFO]  Epoch[0] Validation-Age-accuracy=0.000000\n",
      "2021-10-22 15:14:54,997 [INFO]  Epoch[1] Batch [0-26]\tSpeed: 23110.95 samples/sec\tcross-entropy=0.183795\tAge-accuracy=0.000000\n",
      "2021-10-22 15:14:55,015 [INFO]  Epoch[1] Train-cross-entropy=0.152236\n",
      "2021-10-22 15:14:55,016 [INFO]  Epoch[1] Train-Age-accuracy=0.000000\n",
      "2021-10-22 15:14:55,017 [INFO]  Epoch[1] Time cost=0.040\n",
      "2021-10-22 15:14:55,020 [INFO]  Saved checkpoint to \"imputer_model\\model-0001.params\"\n",
      "2021-10-22 15:14:55,023 [INFO]  Epoch[1] Validation-cross-entropy=0.211628\n",
      "2021-10-22 15:14:55,023 [INFO]  Epoch[1] Validation-Age-accuracy=0.000000\n",
      "2021-10-22 15:14:55,045 [INFO]  Epoch[2] Batch [0-26]\tSpeed: 21894.68 samples/sec\tcross-entropy=0.086416\tAge-accuracy=0.000000\n",
      "2021-10-22 15:14:55,061 [INFO]  Epoch[2] Train-cross-entropy=0.077054\n",
      "2021-10-22 15:14:55,062 [INFO]  Epoch[2] Train-Age-accuracy=0.000000\n",
      "2021-10-22 15:14:55,062 [INFO]  Epoch[2] Time cost=0.038\n",
      "2021-10-22 15:14:55,066 [INFO]  Saved checkpoint to \"imputer_model\\model-0002.params\"\n",
      "2021-10-22 15:14:55,070 [INFO]  Epoch[2] Validation-cross-entropy=0.133205\n",
      "2021-10-22 15:14:55,070 [INFO]  Epoch[2] Validation-Age-accuracy=0.000000\n",
      "2021-10-22 15:14:55,089 [INFO]  Epoch[3] Batch [0-26]\tSpeed: 24470.99 samples/sec\tcross-entropy=0.055518\tAge-accuracy=0.000000\n",
      "2021-10-22 15:14:55,106 [INFO]  Epoch[3] Train-cross-entropy=0.049476\n",
      "2021-10-22 15:14:55,107 [INFO]  Epoch[3] Train-Age-accuracy=0.000000\n",
      "2021-10-22 15:14:55,108 [INFO]  Epoch[3] Time cost=0.037\n",
      "2021-10-22 15:14:55,112 [INFO]  Saved checkpoint to \"imputer_model\\model-0003.params\"\n",
      "2021-10-22 15:14:55,115 [INFO]  Epoch[3] Validation-cross-entropy=0.102924\n",
      "2021-10-22 15:14:55,116 [INFO]  Epoch[3] Validation-Age-accuracy=0.000000\n",
      "2021-10-22 15:14:55,138 [INFO]  Epoch[4] Batch [0-26]\tSpeed: 20800.52 samples/sec\tcross-entropy=0.039272\tAge-accuracy=0.000000\n",
      "2021-10-22 15:14:55,157 [INFO]  Epoch[4] Train-cross-entropy=0.035444\n",
      "2021-10-22 15:14:55,160 [INFO]  Epoch[4] Train-Age-accuracy=0.000000\n",
      "2021-10-22 15:14:55,160 [INFO]  Epoch[4] Time cost=0.043\n",
      "2021-10-22 15:14:55,163 [INFO]  Saved checkpoint to \"imputer_model\\model-0004.params\"\n",
      "2021-10-22 15:14:55,166 [INFO]  Epoch[4] Validation-cross-entropy=0.087987\n",
      "2021-10-22 15:14:55,166 [INFO]  Epoch[4] Validation-Age-accuracy=0.000000\n",
      "2021-10-22 15:14:55,182 [INFO]  Epoch[5] Batch [0-26]\tSpeed: 29714.92 samples/sec\tcross-entropy=0.029884\tAge-accuracy=0.000000\n",
      "2021-10-22 15:14:55,203 [INFO]  Epoch[5] Train-cross-entropy=0.027371\n",
      "2021-10-22 15:14:55,204 [INFO]  Epoch[5] Train-Age-accuracy=0.000000\n",
      "2021-10-22 15:14:55,204 [INFO]  Epoch[5] Time cost=0.037\n",
      "2021-10-22 15:14:55,207 [INFO]  Saved checkpoint to \"imputer_model\\model-0005.params\"\n",
      "2021-10-22 15:14:55,210 [INFO]  Epoch[5] Validation-cross-entropy=0.078653\n",
      "2021-10-22 15:14:55,211 [INFO]  Epoch[5] Validation-Age-accuracy=0.000000\n",
      "2021-10-22 15:14:55,232 [INFO]  Epoch[6] Batch [0-26]\tSpeed: 21894.68 samples/sec\tcross-entropy=0.024069\tAge-accuracy=0.000000\n",
      "2021-10-22 15:14:55,248 [INFO]  Epoch[6] Train-cross-entropy=0.022266\n",
      "2021-10-22 15:14:55,249 [INFO]  Epoch[6] Train-Age-accuracy=0.000000\n",
      "2021-10-22 15:14:55,250 [INFO]  Epoch[6] Time cost=0.038\n",
      "2021-10-22 15:14:55,254 [INFO]  Saved checkpoint to \"imputer_model\\model-0006.params\"\n",
      "2021-10-22 15:14:55,257 [INFO]  Epoch[6] Validation-cross-entropy=0.068949\n",
      "2021-10-22 15:14:55,257 [INFO]  Epoch[6] Validation-Age-accuracy=0.000000\n",
      "2021-10-22 15:14:55,279 [INFO]  Epoch[7] Batch [0-26]\tSpeed: 20801.01 samples/sec\tcross-entropy=0.019620\tAge-accuracy=0.000000\n",
      "2021-10-22 15:14:55,297 [INFO]  Epoch[7] Train-cross-entropy=0.018380\n",
      "2021-10-22 15:14:55,298 [INFO]  Epoch[7] Train-Age-accuracy=0.000000\n",
      "2021-10-22 15:14:55,298 [INFO]  Epoch[7] Time cost=0.040\n",
      "2021-10-22 15:14:55,331 [INFO]  Saved checkpoint to \"imputer_model\\model-0007.params\"\n",
      "2021-10-22 15:14:55,333 [INFO]  Epoch[7] Validation-cross-entropy=0.061238\n",
      "2021-10-22 15:14:55,334 [INFO]  Epoch[7] Validation-Age-accuracy=0.000000\n",
      "2021-10-22 15:14:55,352 [INFO]  Epoch[8] Batch [0-26]\tSpeed: 25995.30 samples/sec\tcross-entropy=0.016334\tAge-accuracy=0.000000\n",
      "2021-10-22 15:14:55,369 [INFO]  Epoch[8] Train-cross-entropy=0.015520\n",
      "2021-10-22 15:14:55,371 [INFO]  Epoch[8] Train-Age-accuracy=0.000000\n",
      "2021-10-22 15:14:55,371 [INFO]  Epoch[8] Time cost=0.036\n",
      "2021-10-22 15:14:55,375 [INFO]  Saved checkpoint to \"imputer_model\\model-0008.params\"\n",
      "2021-10-22 15:14:55,377 [INFO]  Epoch[8] Validation-cross-entropy=0.054481\n",
      "2021-10-22 15:14:55,378 [INFO]  Epoch[8] Validation-Age-accuracy=0.000000\n",
      "2021-10-22 15:14:55,399 [INFO]  Epoch[9] Batch [0-26]\tSpeed: 21890.55 samples/sec\tcross-entropy=0.014059\tAge-accuracy=0.000000\n",
      "2021-10-22 15:14:55,418 [INFO]  Epoch[9] Train-cross-entropy=0.013526\n",
      "2021-10-22 15:14:55,418 [INFO]  Epoch[9] Train-Age-accuracy=0.000000\n",
      "2021-10-22 15:14:55,419 [INFO]  Epoch[9] Time cost=0.040\n",
      "2021-10-22 15:14:55,422 [INFO]  Saved checkpoint to \"imputer_model\\model-0009.params\"\n",
      "2021-10-22 15:14:55,425 [INFO]  Epoch[9] Validation-cross-entropy=0.048520\n",
      "2021-10-22 15:14:55,426 [INFO]  Epoch[9] Validation-Age-accuracy=0.000000\n",
      "2021-10-22 15:14:55,445 [INFO]  Epoch[10] Batch [0-26]\tSpeed: 24471.33 samples/sec\tcross-entropy=0.012253\tAge-accuracy=0.000000\n",
      "2021-10-22 15:14:55,463 [INFO]  Epoch[10] Train-cross-entropy=0.011945\n",
      "2021-10-22 15:14:55,464 [INFO]  Epoch[10] Train-Age-accuracy=0.000000\n",
      "2021-10-22 15:14:55,465 [INFO]  Epoch[10] Time cost=0.038\n",
      "2021-10-22 15:14:55,469 [INFO]  Saved checkpoint to \"imputer_model\\model-0010.params\"\n",
      "2021-10-22 15:14:55,472 [INFO]  Epoch[10] Validation-cross-entropy=0.042914\n",
      "2021-10-22 15:14:55,472 [INFO]  Epoch[10] Validation-Age-accuracy=0.000000\n",
      "2021-10-22 15:14:55,492 [INFO]  Epoch[11] Batch [0-26]\tSpeed: 23110.64 samples/sec\tcross-entropy=0.010906\tAge-accuracy=0.000000\n",
      "2021-10-22 15:14:55,510 [INFO]  Epoch[11] Train-cross-entropy=0.010681\n",
      "2021-10-22 15:14:55,511 [INFO]  Epoch[11] Train-Age-accuracy=0.000000\n",
      "2021-10-22 15:14:55,512 [INFO]  Epoch[11] Time cost=0.039\n",
      "2021-10-22 15:14:55,515 [INFO]  Saved checkpoint to \"imputer_model\\model-0011.params\"\n",
      "2021-10-22 15:14:55,519 [INFO]  Epoch[11] Validation-cross-entropy=0.039013\n",
      "2021-10-22 15:14:55,520 [INFO]  Epoch[11] Validation-Age-accuracy=0.000000\n",
      "2021-10-22 15:14:55,538 [INFO]  Epoch[12] Batch [0-26]\tSpeed: 25998.79 samples/sec\tcross-entropy=0.009866\tAge-accuracy=0.000000\n",
      "2021-10-22 15:14:55,556 [INFO]  Epoch[12] Train-cross-entropy=0.009549\n",
      "2021-10-22 15:14:55,557 [INFO]  Epoch[12] Train-Age-accuracy=0.000000\n",
      "2021-10-22 15:14:55,557 [INFO]  Epoch[12] Time cost=0.036\n",
      "2021-10-22 15:14:55,561 [INFO]  Saved checkpoint to \"imputer_model\\model-0012.params\"\n",
      "2021-10-22 15:14:55,563 [INFO]  Epoch[12] Validation-cross-entropy=0.036803\n",
      "2021-10-22 15:14:55,564 [INFO]  Epoch[12] Validation-Age-accuracy=0.000000\n",
      "2021-10-22 15:14:55,585 [INFO]  Epoch[13] Batch [0-26]\tSpeed: 21895.77 samples/sec\tcross-entropy=0.008738\tAge-accuracy=0.000000\n",
      "2021-10-22 15:14:55,601 [INFO]  Epoch[13] Train-cross-entropy=0.008496\n",
      "2021-10-22 15:14:55,603 [INFO]  Epoch[13] Train-Age-accuracy=0.000000\n",
      "2021-10-22 15:14:55,604 [INFO]  Epoch[13] Time cost=0.039\n",
      "2021-10-22 15:14:55,607 [INFO]  Saved checkpoint to \"imputer_model\\model-0013.params\"\n",
      "2021-10-22 15:14:55,610 [INFO]  Epoch[13] Validation-cross-entropy=0.034838\n",
      "2021-10-22 15:14:55,611 [INFO]  Epoch[13] Validation-Age-accuracy=0.000000\n",
      "2021-10-22 15:14:55,629 [INFO]  Epoch[14] Batch [0-26]\tSpeed: 24469.96 samples/sec\tcross-entropy=0.007736\tAge-accuracy=0.000000\n",
      "2021-10-22 15:14:55,644 [INFO]  Epoch[14] Train-cross-entropy=0.007553\n",
      "2021-10-22 15:14:55,645 [INFO]  Epoch[14] Train-Age-accuracy=0.000000\n"
     ]
    },
    {
     "name": "stderr",
     "output_type": "stream",
     "text": [
      "2021-10-22 15:14:55,645 [INFO]  Epoch[14] Time cost=0.034\n",
      "2021-10-22 15:14:55,648 [INFO]  Saved checkpoint to \"imputer_model\\model-0014.params\"\n",
      "2021-10-22 15:14:55,651 [INFO]  Epoch[14] Validation-cross-entropy=0.033105\n",
      "2021-10-22 15:14:55,651 [INFO]  Epoch[14] Validation-Age-accuracy=0.000000\n",
      "2021-10-22 15:14:55,669 [INFO]  Epoch[15] Batch [0-26]\tSpeed: 26000.33 samples/sec\tcross-entropy=0.007007\tAge-accuracy=0.000000\n",
      "2021-10-22 15:14:55,686 [INFO]  Epoch[15] Train-cross-entropy=0.006874\n",
      "2021-10-22 15:14:55,687 [INFO]  Epoch[15] Train-Age-accuracy=0.000000\n",
      "2021-10-22 15:14:55,688 [INFO]  Epoch[15] Time cost=0.036\n",
      "2021-10-22 15:14:55,692 [INFO]  Saved checkpoint to \"imputer_model\\model-0015.params\"\n",
      "2021-10-22 15:14:55,695 [INFO]  Epoch[15] Validation-cross-entropy=0.032577\n",
      "2021-10-22 15:14:55,696 [INFO]  Epoch[15] Validation-Age-accuracy=0.000000\n",
      "2021-10-22 15:14:55,715 [INFO]  Epoch[16] Batch [0-26]\tSpeed: 24470.99 samples/sec\tcross-entropy=0.006455\tAge-accuracy=0.000000\n",
      "2021-10-22 15:14:55,732 [INFO]  Epoch[16] Train-cross-entropy=0.006405\n",
      "2021-10-22 15:14:55,733 [INFO]  Epoch[16] Train-Age-accuracy=0.000000\n",
      "2021-10-22 15:14:55,733 [INFO]  Epoch[16] Time cost=0.036\n",
      "2021-10-22 15:14:55,736 [INFO]  Saved checkpoint to \"imputer_model\\model-0016.params\"\n",
      "2021-10-22 15:14:55,739 [INFO]  Epoch[16] Validation-cross-entropy=0.030967\n",
      "2021-10-22 15:14:55,739 [INFO]  Epoch[16] Validation-Age-accuracy=0.000000\n",
      "2021-10-22 15:14:55,760 [INFO]  Epoch[17] Batch [0-26]\tSpeed: 23110.03 samples/sec\tcross-entropy=0.006135\tAge-accuracy=0.000000\n",
      "2021-10-22 15:14:55,773 [INFO]  Epoch[17] Train-cross-entropy=0.006074\n",
      "2021-10-22 15:14:55,775 [INFO]  Epoch[17] Train-Age-accuracy=0.000000\n",
      "2021-10-22 15:14:55,775 [INFO]  Epoch[17] Time cost=0.035\n",
      "2021-10-22 15:14:55,779 [INFO]  Saved checkpoint to \"imputer_model\\model-0017.params\"\n",
      "2021-10-22 15:14:55,781 [INFO]  Epoch[17] Validation-cross-entropy=0.030980\n",
      "2021-10-22 15:14:55,782 [INFO]  Epoch[17] Validation-Age-accuracy=0.000000\n",
      "2021-10-22 15:14:55,801 [INFO]  Epoch[18] Batch [0-26]\tSpeed: 24470.99 samples/sec\tcross-entropy=0.005825\tAge-accuracy=0.000000\n",
      "2021-10-22 15:14:55,816 [INFO]  Epoch[18] Train-cross-entropy=0.005761\n",
      "2021-10-22 15:14:55,817 [INFO]  Epoch[18] Train-Age-accuracy=0.000000\n",
      "2021-10-22 15:14:55,817 [INFO]  Epoch[18] Time cost=0.035\n",
      "2021-10-22 15:14:55,820 [INFO]  Saved checkpoint to \"imputer_model\\model-0018.params\"\n",
      "2021-10-22 15:14:55,822 [INFO]  Epoch[18] Validation-cross-entropy=0.030246\n",
      "2021-10-22 15:14:55,823 [INFO]  Epoch[18] Validation-Age-accuracy=0.000000\n",
      "2021-10-22 15:14:55,841 [INFO]  Epoch[19] Batch [0-26]\tSpeed: 27728.29 samples/sec\tcross-entropy=0.005437\tAge-accuracy=0.000000\n",
      "2021-10-22 15:14:55,855 [INFO]  Epoch[19] Train-cross-entropy=0.005402\n",
      "2021-10-22 15:14:55,856 [INFO]  Epoch[19] Train-Age-accuracy=0.000000\n",
      "2021-10-22 15:14:55,856 [INFO]  Epoch[19] Time cost=0.032\n",
      "2021-10-22 15:14:55,861 [INFO]  Saved checkpoint to \"imputer_model\\model-0019.params\"\n",
      "2021-10-22 15:14:55,864 [INFO]  Epoch[19] Validation-cross-entropy=0.029213\n",
      "2021-10-22 15:14:55,864 [INFO]  Epoch[19] Validation-Age-accuracy=0.000000\n",
      "2021-10-22 15:14:55,886 [INFO]  Epoch[20] Batch [0-26]\tSpeed: 20800.76 samples/sec\tcross-entropy=0.005078\tAge-accuracy=0.000000\n",
      "2021-10-22 15:14:55,906 [INFO]  Epoch[20] Train-cross-entropy=0.005088\n",
      "2021-10-22 15:14:55,908 [INFO]  Epoch[20] Train-Age-accuracy=0.000000\n",
      "2021-10-22 15:14:55,910 [INFO]  Epoch[20] Time cost=0.045\n",
      "2021-10-22 15:14:55,913 [INFO]  Saved checkpoint to \"imputer_model\\model-0020.params\"\n",
      "2021-10-22 15:14:55,916 [INFO]  Epoch[20] Validation-cross-entropy=0.028825\n",
      "2021-10-22 15:14:55,917 [INFO]  Epoch[20] Validation-Age-accuracy=0.000000\n",
      "2021-10-22 15:14:55,936 [INFO]  Epoch[21] Batch [0-26]\tSpeed: 24472.02 samples/sec\tcross-entropy=0.004993\tAge-accuracy=0.000000\n",
      "2021-10-22 15:14:55,954 [INFO]  Epoch[21] Train-cross-entropy=0.004988\n",
      "2021-10-22 15:14:55,955 [INFO]  Epoch[21] Train-Age-accuracy=0.000000\n",
      "2021-10-22 15:14:55,955 [INFO]  Epoch[21] Time cost=0.037\n",
      "2021-10-22 15:14:55,959 [INFO]  Saved checkpoint to \"imputer_model\\model-0021.params\"\n",
      "2021-10-22 15:14:55,962 [INFO]  Epoch[21] Validation-cross-entropy=0.030218\n",
      "2021-10-22 15:14:55,964 [INFO]  Epoch[21] Validation-Age-accuracy=0.000000\n",
      "2021-10-22 15:14:55,986 [INFO]  Epoch[22] Batch [0-26]\tSpeed: 20800.27 samples/sec\tcross-entropy=0.005112\tAge-accuracy=0.000000\n",
      "2021-10-22 15:14:56,007 [INFO]  Epoch[22] Train-cross-entropy=0.005079\n",
      "2021-10-22 15:14:56,008 [INFO]  Epoch[22] Train-Age-accuracy=0.000000\n",
      "2021-10-22 15:14:56,008 [INFO]  Epoch[22] Time cost=0.043\n",
      "2021-10-22 15:14:56,011 [INFO]  Saved checkpoint to \"imputer_model\\model-0022.params\"\n",
      "2021-10-22 15:14:56,014 [INFO]  Epoch[22] Validation-cross-entropy=0.030851\n",
      "2021-10-22 15:14:56,016 [INFO]  Epoch[22] Validation-Age-accuracy=0.000000\n",
      "2021-10-22 15:14:56,037 [INFO]  Epoch[23] Batch [0-26]\tSpeed: 21895.50 samples/sec\tcross-entropy=0.005142\tAge-accuracy=0.000000\n",
      "2021-10-22 15:14:56,057 [INFO]  Epoch[23] Train-cross-entropy=0.005074\n",
      "2021-10-22 15:14:56,058 [INFO]  Epoch[23] Train-Age-accuracy=0.000000\n",
      "2021-10-22 15:14:56,058 [INFO]  Epoch[23] Time cost=0.041\n",
      "2021-10-22 15:14:56,062 [INFO]  Saved checkpoint to \"imputer_model\\model-0023.params\"\n",
      "2021-10-22 15:14:56,065 [INFO]  Epoch[23] Validation-cross-entropy=0.028970\n",
      "2021-10-22 15:14:56,067 [INFO]  Epoch[23] Validation-Age-accuracy=0.000000\n",
      "2021-10-22 15:14:56,083 [INFO]  Epoch[24] Batch [0-26]\tSpeed: 27733.58 samples/sec\tcross-entropy=0.004810\tAge-accuracy=0.000000\n",
      "2021-10-22 15:14:56,101 [INFO]  Epoch[24] Train-cross-entropy=0.004734\n",
      "2021-10-22 15:14:56,102 [INFO]  Epoch[24] Train-Age-accuracy=0.000000\n",
      "2021-10-22 15:14:56,102 [INFO]  Epoch[24] Time cost=0.035\n",
      "2021-10-22 15:14:56,106 [INFO]  Saved checkpoint to \"imputer_model\\model-0024.params\"\n",
      "2021-10-22 15:14:56,109 [INFO]  Epoch[24] Validation-cross-entropy=0.026058\n",
      "2021-10-22 15:14:56,110 [INFO]  Epoch[24] Validation-Age-accuracy=0.000000\n",
      "2021-10-22 15:14:56,132 [INFO]  Epoch[25] Batch [0-26]\tSpeed: 20800.76 samples/sec\tcross-entropy=0.004441\tAge-accuracy=0.000000\n",
      "2021-10-22 15:14:56,150 [INFO]  Epoch[25] Train-cross-entropy=0.005195\n",
      "2021-10-22 15:14:56,151 [INFO]  Epoch[25] Train-Age-accuracy=0.000000\n",
      "2021-10-22 15:14:56,151 [INFO]  Epoch[25] Time cost=0.040\n",
      "2021-10-22 15:14:56,154 [INFO]  Saved checkpoint to \"imputer_model\\model-0025.params\"\n",
      "2021-10-22 15:14:56,157 [INFO]  Epoch[25] Validation-cross-entropy=0.021828\n",
      "2021-10-22 15:14:56,158 [INFO]  Epoch[25] Validation-Age-accuracy=0.000000\n",
      "2021-10-22 15:14:56,177 [INFO]  Epoch[26] Batch [0-26]\tSpeed: 24472.02 samples/sec\tcross-entropy=0.005967\tAge-accuracy=0.000000\n",
      "2021-10-22 15:14:56,196 [INFO]  Epoch[26] Train-cross-entropy=0.011810\n",
      "2021-10-22 15:14:56,197 [INFO]  Epoch[26] Train-Age-accuracy=0.000000\n",
      "2021-10-22 15:14:56,198 [INFO]  Epoch[26] Time cost=0.038\n",
      "2021-10-22 15:14:56,201 [INFO]  Saved checkpoint to \"imputer_model\\model-0026.params\"\n",
      "2021-10-22 15:14:56,203 [INFO]  Epoch[26] Validation-cross-entropy=0.024824\n",
      "2021-10-22 15:14:56,204 [INFO]  Epoch[26] Validation-Age-accuracy=0.000000\n",
      "2021-10-22 15:14:56,222 [INFO]  Epoch[27] Batch [0-26]\tSpeed: 25999.56 samples/sec\tcross-entropy=0.018763\tAge-accuracy=0.000000\n",
      "2021-10-22 15:14:56,237 [INFO]  Epoch[27] Train-cross-entropy=0.039054\n",
      "2021-10-22 15:14:56,238 [INFO]  Epoch[27] Train-Age-accuracy=0.000000\n",
      "2021-10-22 15:14:56,239 [INFO]  Epoch[27] Time cost=0.034\n",
      "2021-10-22 15:14:56,242 [INFO]  Saved checkpoint to \"imputer_model\\model-0027.params\"\n",
      "2021-10-22 15:14:56,244 [INFO]  Epoch[27] Validation-cross-entropy=0.048470\n",
      "2021-10-22 15:14:56,245 [INFO]  Epoch[27] Validation-Age-accuracy=0.000000\n",
      "2021-10-22 15:14:56,262 [INFO]  Epoch[28] Batch [0-26]\tSpeed: 27735.78 samples/sec\tcross-entropy=0.057397\tAge-accuracy=0.000000\n",
      "2021-10-22 15:14:56,279 [INFO]  Epoch[28] Train-cross-entropy=0.080656\n",
      "2021-10-22 15:14:56,280 [INFO]  Epoch[28] Train-Age-accuracy=0.000000\n",
      "2021-10-22 15:14:56,281 [INFO]  Epoch[28] Time cost=0.036\n",
      "2021-10-22 15:14:56,284 [INFO]  Saved checkpoint to \"imputer_model\\model-0028.params\"\n",
      "2021-10-22 15:14:56,287 [INFO]  Epoch[28] Validation-cross-entropy=0.072446\n",
      "2021-10-22 15:14:56,288 [INFO]  Epoch[28] Validation-Age-accuracy=0.000000\n",
      "2021-10-22 15:14:56,305 [INFO]  Epoch[29] Batch [0-26]\tSpeed: 25999.95 samples/sec\tcross-entropy=0.063161\tAge-accuracy=0.000000\n"
     ]
    },
    {
     "name": "stderr",
     "output_type": "stream",
     "text": [
      "2021-10-22 15:14:56,322 [INFO]  Epoch[29] Train-cross-entropy=0.064254\n",
      "2021-10-22 15:14:56,322 [INFO]  Epoch[29] Train-Age-accuracy=0.000000\n",
      "2021-10-22 15:14:56,323 [INFO]  Epoch[29] Time cost=0.035\n",
      "2021-10-22 15:14:56,326 [INFO]  Saved checkpoint to \"imputer_model\\model-0029.params\"\n",
      "2021-10-22 15:14:56,329 [INFO]  Epoch[29] Validation-cross-entropy=0.191884\n",
      "2021-10-22 15:14:56,331 [INFO]  Epoch[29] Validation-Age-accuracy=0.000000\n",
      "2021-10-22 15:14:56,349 [INFO]  Epoch[30] Batch [0-26]\tSpeed: 27734.02 samples/sec\tcross-entropy=0.084488\tAge-accuracy=0.000000\n",
      "2021-10-22 15:14:56,367 [INFO]  Epoch[30] Train-cross-entropy=0.102195\n",
      "2021-10-22 15:14:56,368 [INFO]  Epoch[30] Train-Age-accuracy=0.000000\n",
      "2021-10-22 15:14:56,368 [INFO]  Epoch[30] Time cost=0.037\n",
      "2021-10-22 15:14:56,372 [INFO]  Saved checkpoint to \"imputer_model\\model-0030.params\"\n",
      "2021-10-22 15:14:56,374 [INFO]  No improvement detected for 5 epochs compared to 0.021828243602067234 last error obtained: 0.16080676317214965, stopping here\n",
      "2021-10-22 15:14:56,375 [INFO]  \n",
      "========== done (1.446997880935669 s) fit model\n"
     ]
    },
    {
     "name": "stdout",
     "output_type": "stream",
     "text": [
      "Accuracy(using R2 score): 0.9941418333355725\n"
     ]
    }
   ],
   "source": [
    "train_datawig_imputed = get_imputed(train, ['Survived', 'Pclass', 'Sex', 'Age', 'SibSp', 'Parch', 'Fare', 'Title'], 'Age')"
   ]
  },
  {
   "cell_type": "markdown",
   "metadata": {},
   "source": [
    "R2 score is moderate"
   ]
  },
  {
   "cell_type": "code",
   "execution_count": 27,
   "metadata": {},
   "outputs": [
    {
     "name": "stdout",
     "output_type": "stream",
     "text": [
      "Survived 0.0\n",
      "Pclass 0.0\n",
      "Sex 0.0\n",
      "Age 0.0\n",
      "SibSp 0.0\n",
      "Parch 0.0\n",
      "Fare 0.0\n",
      "Title 0.0\n"
     ]
    }
   ],
   "source": [
    "for c in train_datawig_imputed.columns:\n",
    "    print(c, str(100*train_datawig_imputed[c].isnull().sum()/len(train)))"
   ]
  },
  {
   "cell_type": "markdown",
   "metadata": {},
   "source": [
    "Now we can see that there are no missing values in Age column."
   ]
  },
  {
   "cell_type": "markdown",
   "metadata": {
    "papermill": {
     "duration": 0.063008,
     "end_time": "2020-11-22T06:38:05.320246",
     "exception": false,
     "start_time": "2020-11-22T06:38:05.257238",
     "status": "completed"
    },
    "tags": []
   },
   "source": [
    "# Splitting Training data "
   ]
  },
  {
   "cell_type": "code",
   "execution_count": 28,
   "metadata": {
    "execution": {
     "iopub.execute_input": "2020-11-22T06:38:05.447838Z",
     "iopub.status.busy": "2020-11-22T06:38:05.447177Z",
     "iopub.status.idle": "2020-11-22T06:38:05.522310Z",
     "shell.execute_reply": "2020-11-22T06:38:05.521445Z"
    },
    "papermill": {
     "duration": 0.140725,
     "end_time": "2020-11-22T06:38:05.522421",
     "exception": false,
     "start_time": "2020-11-22T06:38:05.381696",
     "status": "completed"
    },
    "tags": []
   },
   "outputs": [],
   "source": [
    "from sklearn.model_selection import train_test_split\n",
    "# for mean imputation\n",
    "X_mean_train, X_mean_test , Y_mean_train, Y_mean_test = train_test_split(train_mean_imputed.drop(['Survived'],axis=1), train_mean_imputed['Survived'],test_size=0.10,random_state=None)\n",
    "# for median imputation\n",
    "X_median_train, X_median_test , Y_median_train, Y_median_test = train_test_split(train_median_imputed.drop(['Survived'],axis=1), train_median_imputed['Survived'],test_size=0.10,random_state=None)\n",
    "# for most frequent\n",
    "X_most_frequent_train, X_most_frequent_test , Y_most_frequent_train, Y_most_frequent_test = train_test_split(train_most_frequent_imputed.drop(['Survived'],axis=1), train_most_frequent_imputed['Survived'],test_size=0.10,random_state=None)\n",
    "# for deep learning based imputation\n",
    "X_datawig_train, X_datawig_test , Y_datawig_train, Y_datawig_test = train_test_split(train_datawig_imputed.drop(['Survived'],axis=1), train_datawig_imputed['Survived'],test_size=0.10,random_state=None)"
   ]
  },
  {
   "cell_type": "markdown",
   "metadata": {
    "papermill": {
     "duration": 0.063406,
     "end_time": "2020-11-22T06:38:07.031307",
     "exception": false,
     "start_time": "2020-11-22T06:38:06.967901",
     "status": "completed"
    },
    "tags": []
   },
   "source": [
    "# Applying Ramndom Forest :"
   ]
  },
  {
   "cell_type": "code",
   "execution_count": 29,
   "metadata": {
    "execution": {
     "iopub.execute_input": "2020-11-22T06:38:07.162430Z",
     "iopub.status.busy": "2020-11-22T06:38:07.161642Z",
     "iopub.status.idle": "2020-11-22T06:38:07.186726Z",
     "shell.execute_reply": "2020-11-22T06:38:07.185938Z"
    },
    "papermill": {
     "duration": 0.092494,
     "end_time": "2020-11-22T06:38:07.186832",
     "exception": false,
     "start_time": "2020-11-22T06:38:07.094338",
     "status": "completed"
    },
    "tags": []
   },
   "outputs": [],
   "source": [
    "from sklearn.ensemble import RandomForestClassifier\n",
    "from sklearn import metrics"
   ]
  },
  {
   "cell_type": "markdown",
   "metadata": {},
   "source": [
    "- For mean imputed dataset"
   ]
  },
  {
   "cell_type": "code",
   "execution_count": 30,
   "metadata": {
    "execution": {
     "iopub.execute_input": "2020-11-22T06:38:07.324879Z",
     "iopub.status.busy": "2020-11-22T06:38:07.324020Z",
     "iopub.status.idle": "2020-11-22T06:38:07.385260Z",
     "shell.execute_reply": "2020-11-22T06:38:07.384746Z"
    },
    "papermill": {
     "duration": 0.131904,
     "end_time": "2020-11-22T06:38:07.385357",
     "exception": false,
     "start_time": "2020-11-22T06:38:07.253453",
     "status": "completed"
    },
    "tags": []
   },
   "outputs": [],
   "source": [
    "rforest_mean_imputed = RandomForestClassifier(bootstrap=True, class_weight=None, criterion='gini',\n",
    "            max_depth=None, max_features=7, max_leaf_nodes=None,\n",
    "            min_impurity_decrease=0.0, min_impurity_split=None,\n",
    "            min_samples_leaf=1, min_samples_split=2,\n",
    "            min_weight_fraction_leaf=0.0, n_estimators=20, n_jobs=1,\n",
    "            oob_score=False, random_state=42, verbose=0, warm_start=False)\n",
    "rforest_mean_imputed.fit(X_mean_train, Y_mean_train)\n",
    "y_pred_mean_forest = rforest_mean_imputed.predict(X_mean_test)"
   ]
  },
  {
   "cell_type": "code",
   "execution_count": 31,
   "metadata": {
    "execution": {
     "iopub.execute_input": "2020-11-22T06:38:07.517120Z",
     "iopub.status.busy": "2020-11-22T06:38:07.515893Z",
     "iopub.status.idle": "2020-11-22T06:38:07.519863Z",
     "shell.execute_reply": "2020-11-22T06:38:07.520480Z"
    },
    "papermill": {
     "duration": 0.073758,
     "end_time": "2020-11-22T06:38:07.520623",
     "exception": false,
     "start_time": "2020-11-22T06:38:07.446865",
     "status": "completed"
    },
    "tags": []
   },
   "outputs": [
    {
     "name": "stdout",
     "output_type": "stream",
     "text": [
      "[1 0 0 1 1 1 1 0 0 1 1 0 0 0 0 1 0 1 0 0 0 1 0 0 0 0 0 0 0 1 0 1 1 1 0 0 1\n",
      " 1 1 0 0 0 0 0 0 0 1 0 0 0 1 1 0 1 0 1 0 1 1 0 0 1 1 0 0 1 0 1 0 1 1 1 1 1\n",
      " 0 0 1 1 1 1 0 1 1 0 0 0 1 1 0 0]\n",
      "We see that Random Forest classifier gives an Accuracy of  81.11111111111111 % on the traing set.\n"
     ]
    }
   ],
   "source": [
    "acc_RF_mean_imputed = metrics.accuracy_score(y_pred_mean_forest, Y_mean_test)\n",
    "print(y_pred_mean_forest)\n",
    "print(\"We see that Random Forest classifier gives an Accuracy of \",acc_RF_mean_imputed*100,\"% on the traing set.\")"
   ]
  },
  {
   "cell_type": "markdown",
   "metadata": {},
   "source": [
    "- For median imputed dataset"
   ]
  },
  {
   "cell_type": "code",
   "execution_count": 32,
   "metadata": {
    "execution": {
     "iopub.execute_input": "2020-11-22T06:38:07.324879Z",
     "iopub.status.busy": "2020-11-22T06:38:07.324020Z",
     "iopub.status.idle": "2020-11-22T06:38:07.385260Z",
     "shell.execute_reply": "2020-11-22T06:38:07.384746Z"
    },
    "papermill": {
     "duration": 0.131904,
     "end_time": "2020-11-22T06:38:07.385357",
     "exception": false,
     "start_time": "2020-11-22T06:38:07.253453",
     "status": "completed"
    },
    "tags": []
   },
   "outputs": [],
   "source": [
    "rforest_median_imputed = RandomForestClassifier(bootstrap=True, class_weight=None, criterion='gini',\n",
    "            max_depth=None, max_features=7, max_leaf_nodes=None,\n",
    "            min_impurity_decrease=0.0, min_impurity_split=None,\n",
    "            min_samples_leaf=1, min_samples_split=2,\n",
    "            min_weight_fraction_leaf=0.0, n_estimators=20, n_jobs=1,\n",
    "            oob_score=False, random_state=42, verbose=0, warm_start=False)\n",
    "rforest_median_imputed.fit(X_median_train, Y_median_train)\n",
    "y_pred_median_forest = rforest_median_imputed.predict(X_median_test)"
   ]
  },
  {
   "cell_type": "code",
   "execution_count": 33,
   "metadata": {
    "execution": {
     "iopub.execute_input": "2020-11-22T06:38:07.517120Z",
     "iopub.status.busy": "2020-11-22T06:38:07.515893Z",
     "iopub.status.idle": "2020-11-22T06:38:07.519863Z",
     "shell.execute_reply": "2020-11-22T06:38:07.520480Z"
    },
    "papermill": {
     "duration": 0.073758,
     "end_time": "2020-11-22T06:38:07.520623",
     "exception": false,
     "start_time": "2020-11-22T06:38:07.446865",
     "status": "completed"
    },
    "tags": []
   },
   "outputs": [
    {
     "name": "stdout",
     "output_type": "stream",
     "text": [
      "[0 0 1 0 1 0 0 0 0 0 0 0 0 1 1 1 0 0 1 0 0 1 1 0 0 0 0 0 1 0 0 1 0 0 1 0 1\n",
      " 1 0 1 0 0 0 0 1 0 0 0 1 0 1 1 0 0 1 0 1 1 1 1 1 0 1 0 0 0 1 0 0 1 1 0 1 0\n",
      " 0 1 0 0 1 0 0 0 1 0 0 0 0 1 1 0]\n",
      "We see that Random Forest classifier gives an Accuracy of  87.77777777777777 % on the traing set.\n"
     ]
    }
   ],
   "source": [
    "acc_RF_median_imputed = metrics.accuracy_score(y_pred_median_forest, Y_median_test)\n",
    "print(y_pred_median_forest)\n",
    "print(\"We see that Random Forest classifier gives an Accuracy of \",acc_RF_median_imputed*100,\"% on the traing set.\")"
   ]
  },
  {
   "cell_type": "markdown",
   "metadata": {},
   "source": [
    "- For most frequent imputed dataset"
   ]
  },
  {
   "cell_type": "code",
   "execution_count": 34,
   "metadata": {
    "execution": {
     "iopub.execute_input": "2020-11-22T06:38:07.324879Z",
     "iopub.status.busy": "2020-11-22T06:38:07.324020Z",
     "iopub.status.idle": "2020-11-22T06:38:07.385260Z",
     "shell.execute_reply": "2020-11-22T06:38:07.384746Z"
    },
    "papermill": {
     "duration": 0.131904,
     "end_time": "2020-11-22T06:38:07.385357",
     "exception": false,
     "start_time": "2020-11-22T06:38:07.253453",
     "status": "completed"
    },
    "tags": []
   },
   "outputs": [],
   "source": [
    "rforest_most_frequent_imputed = RandomForestClassifier(bootstrap=True, class_weight=None, criterion='gini',\n",
    "            max_depth=None, max_features=7, max_leaf_nodes=None,\n",
    "            min_impurity_decrease=0.0, min_impurity_split=None,\n",
    "            min_samples_leaf=1, min_samples_split=2,\n",
    "            min_weight_fraction_leaf=0.0, n_estimators=20, n_jobs=1,\n",
    "            oob_score=False, random_state=42, verbose=0, warm_start=False)\n",
    "rforest_most_frequent_imputed.fit(X_most_frequent_train, Y_most_frequent_train)\n",
    "y_pred_most_frequent_forest = rforest_most_frequent_imputed.predict(X_most_frequent_test)"
   ]
  },
  {
   "cell_type": "code",
   "execution_count": 35,
   "metadata": {
    "execution": {
     "iopub.execute_input": "2020-11-22T06:38:07.517120Z",
     "iopub.status.busy": "2020-11-22T06:38:07.515893Z",
     "iopub.status.idle": "2020-11-22T06:38:07.519863Z",
     "shell.execute_reply": "2020-11-22T06:38:07.520480Z"
    },
    "papermill": {
     "duration": 0.073758,
     "end_time": "2020-11-22T06:38:07.520623",
     "exception": false,
     "start_time": "2020-11-22T06:38:07.446865",
     "status": "completed"
    },
    "scrolled": true,
    "tags": []
   },
   "outputs": [
    {
     "name": "stdout",
     "output_type": "stream",
     "text": [
      "[1 0 1 0 1 0 1 1 0 0 1 0 0 0 1 1 1 0 0 0 0 0 0 1 1 1 0 0 0 0 1 0 1 1 0 1 0\n",
      " 1 0 0 1 0 1 0 0 0 0 0 0 0 0 0 0 0 1 1 1 0 0 0 0 0 0 1 1 0 1 1 0 0 0 0 1 0\n",
      " 1 0 0 0 1 0 0 0 1 0 1 1 0 0 1 0]\n",
      "We see that Random Forest classifier gives an Accuracy of  86.66666666666667 % on the traing set.\n"
     ]
    }
   ],
   "source": [
    "acc_RF_most_frequent_imputed = metrics.accuracy_score(y_pred_most_frequent_forest, Y_most_frequent_test)\n",
    "print(y_pred_most_frequent_forest)\n",
    "print(\"We see that Random Forest classifier gives an Accuracy of \",acc_RF_most_frequent_imputed*100,\"% on the traing set.\")"
   ]
  },
  {
   "cell_type": "markdown",
   "metadata": {},
   "source": [
    "- For Datwig imputed dataset"
   ]
  },
  {
   "cell_type": "code",
   "execution_count": 36,
   "metadata": {
    "execution": {
     "iopub.execute_input": "2020-11-22T06:38:07.324879Z",
     "iopub.status.busy": "2020-11-22T06:38:07.324020Z",
     "iopub.status.idle": "2020-11-22T06:38:07.385260Z",
     "shell.execute_reply": "2020-11-22T06:38:07.384746Z"
    },
    "papermill": {
     "duration": 0.131904,
     "end_time": "2020-11-22T06:38:07.385357",
     "exception": false,
     "start_time": "2020-11-22T06:38:07.253453",
     "status": "completed"
    },
    "tags": []
   },
   "outputs": [],
   "source": [
    "rforest_datawig_imputed = RandomForestClassifier(bootstrap=True, class_weight=None, criterion='gini',\n",
    "            max_depth=None, max_features=7, max_leaf_nodes=None,\n",
    "            min_impurity_decrease=0.0, min_impurity_split=None,\n",
    "            min_samples_leaf=1, min_samples_split=2,\n",
    "            min_weight_fraction_leaf=0.0, n_estimators=20, n_jobs=1,\n",
    "            oob_score=False, random_state=42, verbose=0, warm_start=False)\n",
    "rforest_datawig_imputed.fit(X_datawig_train, Y_datawig_train)\n",
    "y_pred_datawig_forest = rforest_datawig_imputed.predict(X_datawig_test)"
   ]
  },
  {
   "cell_type": "code",
   "execution_count": 37,
   "metadata": {
    "execution": {
     "iopub.execute_input": "2020-11-22T06:38:07.517120Z",
     "iopub.status.busy": "2020-11-22T06:38:07.515893Z",
     "iopub.status.idle": "2020-11-22T06:38:07.519863Z",
     "shell.execute_reply": "2020-11-22T06:38:07.520480Z"
    },
    "papermill": {
     "duration": 0.073758,
     "end_time": "2020-11-22T06:38:07.520623",
     "exception": false,
     "start_time": "2020-11-22T06:38:07.446865",
     "status": "completed"
    },
    "tags": []
   },
   "outputs": [
    {
     "name": "stdout",
     "output_type": "stream",
     "text": [
      "[1 1 1 0 0 1 0 1 1 1 0 0 1 0 0 0 1 1 1 0 0 1 1 0 0 1 1 0 0 0 0 0 0 1 0 1 1\n",
      " 0 0 1 1 0 0 0 1 0 1 0 1 0 1 1 0 0 0 0 0 0 0 0 1 1 0 0 0 1 0 0 0 0 0 1 0 0\n",
      " 0 0 0 1 1 0 0 1 1 0 0 1 0 0 1 1]\n",
      "We see that Random Forest classifier gives an Accuracy of  80.0 % on the traing set.\n"
     ]
    }
   ],
   "source": [
    "acc_RF_datawig_imputed = metrics.accuracy_score(y_pred_datawig_forest, Y_datawig_test)\n",
    "print(y_pred_datawig_forest)\n",
    "print(\"We see that Random Forest classifier gives an Accuracy of \",acc_RF_datawig_imputed*100,\"% on the traing set.\")"
   ]
  },
  {
   "cell_type": "markdown",
   "metadata": {
    "papermill": {
     "duration": 0.065085,
     "end_time": "2020-11-22T06:38:22.181452",
     "exception": false,
     "start_time": "2020-11-22T06:38:22.116367",
     "status": "completed"
    },
    "tags": []
   },
   "source": [
    "# Getting the best Imputation Method:"
   ]
  },
  {
   "cell_type": "code",
   "execution_count": 38,
   "metadata": {
    "execution": {
     "iopub.execute_input": "2020-11-22T06:38:22.324780Z",
     "iopub.status.busy": "2020-11-22T06:38:22.324118Z",
     "iopub.status.idle": "2020-11-22T06:38:22.328556Z",
     "shell.execute_reply": "2020-11-22T06:38:22.329548Z"
    },
    "papermill": {
     "duration": 0.081725,
     "end_time": "2020-11-22T06:38:22.329693",
     "exception": false,
     "start_time": "2020-11-22T06:38:22.247968",
     "status": "completed"
    },
    "tags": []
   },
   "outputs": [
    {
     "name": "stdout",
     "output_type": "stream",
     "text": [
      "                   Imputation_Method     Score\n",
      "1                  Median Imputation  0.877778\n",
      "2           Most Frequent Imputation  0.866667\n",
      "0                    Mean Imputation  0.811111\n",
      "3  Deep Learning(Datawig) Imputation  0.800000\n"
     ]
    }
   ],
   "source": [
    "models = pd.DataFrame({\n",
    "    'Imputation_Method': ['Mean Imputation', 'Median Imputation', 'Most Frequent Imputation', 'Deep Learning(Datawig) Imputation'],\n",
    "    'Score': [acc_RF_mean_imputed, acc_RF_median_imputed, acc_RF_most_frequent_imputed, acc_RF_datawig_imputed]})\n",
    "best_model=models.sort_values(by='Score', ascending=False)\n",
    "print(best_model)"
   ]
  },
  {
   "cell_type": "markdown",
   "metadata": {
    "execution": {
     "iopub.execute_input": "2020-11-22T06:38:22.597440Z",
     "iopub.status.busy": "2020-11-22T06:38:22.596801Z",
     "iopub.status.idle": "2020-11-22T06:38:22.601434Z",
     "shell.execute_reply": "2020-11-22T06:38:22.601945Z"
    },
    "papermill": {
     "duration": 0.074705,
     "end_time": "2020-11-22T06:38:22.602063",
     "exception": false,
     "start_time": "2020-11-22T06:38:22.527358",
     "status": "completed"
    },
    "tags": []
   },
   "source": [
    "## Conclusion"
   ]
  },
  {
   "cell_type": "markdown",
   "metadata": {},
   "source": [
    "For the given dataset it seems the Median data imputation techniques works well. But we only did the imputation for age column only we dropped the rest of the columns. There is no perfect way to impute a dataset. Each strategy can perform better for certain datasets and missing data types but may perform much worse on other types of datasets. It's entirely depends on the dataset. So what imputation technique that need to be used can only be decided after a through EDA(Exploratory Data Analysis)."
   ]
  },
  {
   "cell_type": "code",
   "execution_count": null,
   "metadata": {},
   "outputs": [],
   "source": []
  }
 ],
 "metadata": {
  "kernelspec": {
   "display_name": "Python 3",
   "language": "python",
   "name": "python3"
  },
  "language_info": {
   "codemirror_mode": {
    "name": "ipython",
    "version": 3
   },
   "file_extension": ".py",
   "mimetype": "text/x-python",
   "name": "python",
   "nbconvert_exporter": "python",
   "pygments_lexer": "ipython3",
   "version": "3.8.5"
  },
  "papermill": {
   "duration": 33.869984,
   "end_time": "2020-11-22T06:38:27.338596",
   "environment_variables": {},
   "exception": null,
   "input_path": "__notebook__.ipynb",
   "output_path": "__notebook__.ipynb",
   "parameters": {},
   "start_time": "2020-11-22T06:37:53.468612",
   "version": "2.1.0"
  }
 },
 "nbformat": 4,
 "nbformat_minor": 4
}
